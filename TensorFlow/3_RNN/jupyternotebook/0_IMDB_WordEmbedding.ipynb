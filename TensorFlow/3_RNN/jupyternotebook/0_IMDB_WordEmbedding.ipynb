{
 "cells": [
  {
   "cell_type": "code",
   "execution_count": 1,
   "id": "25ec1542",
   "metadata": {},
   "outputs": [],
   "source": [
    "import os\n",
    "\n",
    "imdb_dir = './datasets/aclImdb'\n",
    "train_dir = os.path.join(imdb_dir, 'train')\n",
    "\n",
    "labels = []\n",
    "texts = []\n",
    "\n",
    "for label_type in ['neg', 'pos']:\n",
    "    dir_name = os.path.join(train_dir, label_type)\n",
    "    for fname in os.listdir(dir_name):\n",
    "        if fname[-4:] == '.txt':\n",
    "            f = open(os.path.join(dir_name, fname), encoding=\"utf8\")\n",
    "            texts.append(f.read())\n",
    "            f.close()\n",
    "            if label_type == 'neg':\n",
    "                labels.append(0)\n",
    "            else:\n",
    "                labels.append(1)"
   ]
  },
  {
   "cell_type": "markdown",
   "id": "2ecacb74",
   "metadata": {},
   "source": [
    "데이터 토큰화"
   ]
  },
  {
   "cell_type": "code",
   "execution_count": 8,
   "id": "d83b666b",
   "metadata": {},
   "outputs": [
    {
     "name": "stdout",
     "output_type": "stream",
     "text": [
      "Sample Text: Working with one of the best Shakespeare sources, this film manages to be creditable to it's source, whilst still appealing to a wider audience.<br /><br />Branagh steals the film from under Fishburne's nose, and there's a talented cast on good form.\n",
      "88582개의 고유한 토큰을 찾음\n",
      "데이터 텐서의 크기: (25000, 100)\n",
      "레이블 텐서의 크기: (25000,)\n",
      "샘플 데이터: [   0    0    0    0    0    0    0    0    0    0    0    0    0    0\n",
      "    0    0    0    0    0    0    0    0    0    0    0    0    0    0\n",
      "    0    0    0    0    0    0    0    0    0    0    0    0    0    0\n",
      "    0    0    0    0    0    0    0    0    0    0    0    0    0    0\n",
      "    0    0    0    0  777   16   28    4    1  115 2278 6887   11   19\n",
      " 1025    5   27    5   42 2425 1861  128 2270    5    3 6985  308    7\n",
      "    7 3383 2373    1   19   36  463 3169    2  222    3 1016  174   20\n",
      "   49  808]\n"
     ]
    }
   ],
   "source": [
    "from keras.preprocessing.text import Tokenizer\n",
    "from tensorflow.keras.preprocessing.sequence import pad_sequences\n",
    "import numpy as np\n",
    "\n",
    "maxlen = 100 # 100개 단어 이후는 버림\n",
    "training_samples = 200 # 훈련 샘플은 200개\n",
    "validation_samples = 10000 # 검증 샘플은 1만 개\n",
    "max_words = 10000 # 데이터셋에서 가장 빈도 높은 1만 개의 단어만 사용\n",
    "\n",
    "tokenizer = Tokenizer(num_words=max_words)\n",
    "tokenizer.fit_on_texts(texts)\n",
    "print('Sample Text:', texts[0])\n",
    "sequences = tokenizer.texts_to_sequences(texts)\n",
    "\n",
    "word_index = tokenizer.word_index\n",
    "print('%s개의 고유한 토큰을 찾음' % len(word_index))\n",
    "\n",
    "data = pad_sequences(sequences, maxlen=maxlen)\n",
    "labels = np.asarray(labels)\n",
    "print('데이터 텐서의 크기:', data.shape)\n",
    "print('레이블 텐서의 크기:', labels.shape)\n",
    "print('샘플 데이터:', data[0])\n",
    "\n",
    "# 데이터를 훈련 세트와 검증 세트로 분할, 샘플이 순서대로 있기 때문에 데이터를 섞어줌\n",
    "indices = np.arange(data.shape[0])\n",
    "np.random.shuffle(indices)\n",
    "data = data[indices]\n",
    "labels = labels[indices]"
   ]
  },
  {
   "cell_type": "code",
   "execution_count": 15,
   "id": "43423398",
   "metadata": {},
   "outputs": [],
   "source": [
    "x_train = data[:training_samples]\n",
    "y_train = labels[:training_samples]\n",
    "\n",
    "x_val = data[training_samples: training_samples + validation_samples]\n",
    "y_val = labels[training_samples: training_samples + validation_samples]"
   ]
  },
  {
   "cell_type": "markdown",
   "id": "9c7b9007",
   "metadata": {},
   "source": [
    "GloVe 단어 임베딩\n",
    "\n",
    "40만개의 단어에 대한 100차원의 임베딩 벡터를 포함\n",
    "\n",
    "https://nlp.stanford.edu/projects/glove/\n",
    "\n",
    "Glove.6B.zip 사용"
   ]
  },
  {
   "cell_type": "markdown",
   "id": "a59f9bf0",
   "metadata": {},
   "source": [
    "## 사전 훈련된 모델 GloVe를 사용해서 학습"
   ]
  },
  {
   "cell_type": "code",
   "execution_count": 16,
   "id": "bef7476d",
   "metadata": {},
   "outputs": [
    {
     "name": "stdout",
     "output_type": "stream",
     "text": [
      "400000 개의 단어 벡터를 찾음.\n"
     ]
    }
   ],
   "source": [
    "glove_dir = './datasets/glove.6B'\n",
    "\n",
    "embeddings_index = {}\n",
    "f = open(os.path.join(glove_dir, 'glove.6B.100d.txt'), encoding=\"utf8\")\n",
    "for line in f:\n",
    "    values = line.split()\n",
    "    word = values[0]\n",
    "    coefs = np.asarray(values[1:], dtype='float32')\n",
    "    embeddings_index[word] = coefs\n",
    "f.close()\n",
    "\n",
    "print('%s 개의 단어 벡터를 찾음.' % len(embeddings_index))"
   ]
  },
  {
   "cell_type": "markdown",
   "id": "dc72ed01",
   "metadata": {},
   "source": [
    "Embedding 층에 주입할 수 있도록 임베딩 행렬을 만듬\n",
    "\n",
    "이 행렬의 크기는 (max_words, embedding_dim)"
   ]
  },
  {
   "cell_type": "code",
   "execution_count": 17,
   "id": "26c47142",
   "metadata": {},
   "outputs": [],
   "source": [
    "# GloVe 단어 임베딩 행렬 준비\n",
    "embedding_dim = 100\n",
    "\n",
    "embedding_matrix = np.zeros((max_words, embedding_dim))\n",
    "for word, i in word_index.items():\n",
    "    if i < max_words:\n",
    "        embedding_vector = embeddings_index.get(word)\n",
    "        if embedding_vector is not None:\n",
    "            embedding_matrix[i] = embedding_vector"
   ]
  },
  {
   "cell_type": "code",
   "execution_count": 18,
   "id": "615fe596",
   "metadata": {},
   "outputs": [
    {
     "name": "stdout",
     "output_type": "stream",
     "text": [
      "Model: \"sequential_1\"\n",
      "_________________________________________________________________\n",
      " Layer (type)                Output Shape              Param #   \n",
      "=================================================================\n",
      " embedding_1 (Embedding)     (None, 100, 100)          1000000   \n",
      "                                                                 \n",
      " flatten_1 (Flatten)         (None, 10000)             0         \n",
      "                                                                 \n",
      " dense_2 (Dense)             (None, 32)                320032    \n",
      "                                                                 \n",
      " dense_3 (Dense)             (None, 1)                 33        \n",
      "                                                                 \n",
      "=================================================================\n",
      "Total params: 1,320,065\n",
      "Trainable params: 1,320,065\n",
      "Non-trainable params: 0\n",
      "_________________________________________________________________\n"
     ]
    }
   ],
   "source": [
    "from keras.models import Sequential\n",
    "from keras.layers import Embedding, Flatten, Dense\n",
    "\n",
    "model = Sequential()\n",
    "model.add(Embedding(max_words, embedding_dim, input_length=maxlen))\n",
    "model.add(Flatten())\n",
    "model.add(Dense(32, activation='relu'))\n",
    "model.add(Dense(1, activation='sigmoid'))\n",
    "model.summary()"
   ]
  },
  {
   "cell_type": "markdown",
   "id": "0518e946",
   "metadata": {},
   "source": [
    "## 모델에 Glove 임베딩 로드\n",
    "\n",
    "Embedding 층은 하나의 가중치 행렬을 가짐"
   ]
  },
  {
   "cell_type": "code",
   "execution_count": 19,
   "id": "ba85d6a5",
   "metadata": {},
   "outputs": [],
   "source": [
    "model.layers[0].set_weights([embedding_matrix])\n",
    "model.layers[0].trainable = False"
   ]
  },
  {
   "cell_type": "markdown",
   "id": "f7f4b165",
   "metadata": {},
   "source": [
    "Embedding 층을 동결\n",
    "\n",
    "모델의 일부는(Embedding layer) 사전 훈련되고 다른 부분은 랜덤하게 초기화되었다면 훈련하는 동안 사전 훈련된 부분이 업데이트될시 이미 알고 있던 정보를 모두 읽어 버리기에 동결시켜야함"
   ]
  },
  {
   "cell_type": "code",
   "execution_count": 20,
   "id": "b31a36a7",
   "metadata": {},
   "outputs": [
    {
     "name": "stdout",
     "output_type": "stream",
     "text": [
      "Epoch 1/10\n"
     ]
    },
    {
     "name": "stderr",
     "output_type": "stream",
     "text": [
      "2022-12-23 16:09:44.742884: W tensorflow/tsl/platform/profile_utils/cpu_utils.cc:128] Failed to get CPU frequency: 0 Hz\n",
      "2022-12-23 16:09:44.916227: I tensorflow/core/grappler/optimizers/custom_graph_optimizer_registry.cc:114] Plugin optimizer for device_type GPU is enabled.\n"
     ]
    },
    {
     "name": "stdout",
     "output_type": "stream",
     "text": [
      "7/7 [==============================] - ETA: 0s - loss: 0.7464 - acc: 0.4900"
     ]
    },
    {
     "name": "stderr",
     "output_type": "stream",
     "text": [
      "2022-12-23 16:09:45.497315: I tensorflow/core/grappler/optimizers/custom_graph_optimizer_registry.cc:114] Plugin optimizer for device_type GPU is enabled.\n"
     ]
    },
    {
     "name": "stdout",
     "output_type": "stream",
     "text": [
      "7/7 [==============================] - 2s 187ms/step - loss: 0.7464 - acc: 0.4900 - val_loss: 0.7340 - val_acc: 0.5003\n",
      "Epoch 2/10\n",
      "7/7 [==============================] - 1s 154ms/step - loss: 0.6916 - acc: 0.5350 - val_loss: 0.7263 - val_acc: 0.4958\n",
      "Epoch 3/10\n",
      "7/7 [==============================] - 1s 153ms/step - loss: 0.6613 - acc: 0.6000 - val_loss: 0.7336 - val_acc: 0.4962\n",
      "Epoch 4/10\n",
      "7/7 [==============================] - 1s 151ms/step - loss: 0.6409 - acc: 0.6600 - val_loss: 0.7262 - val_acc: 0.4957\n",
      "Epoch 5/10\n",
      "7/7 [==============================] - 1s 152ms/step - loss: 0.6171 - acc: 0.7050 - val_loss: 0.7272 - val_acc: 0.4966\n",
      "Epoch 6/10\n",
      "7/7 [==============================] - 1s 152ms/step - loss: 0.5945 - acc: 0.7450 - val_loss: 0.7291 - val_acc: 0.5005\n",
      "Epoch 7/10\n",
      "7/7 [==============================] - 1s 152ms/step - loss: 0.5769 - acc: 0.7800 - val_loss: 0.7281 - val_acc: 0.4983\n",
      "Epoch 8/10\n",
      "7/7 [==============================] - 1s 153ms/step - loss: 0.5559 - acc: 0.8150 - val_loss: 0.7285 - val_acc: 0.4981\n",
      "Epoch 9/10\n",
      "7/7 [==============================] - 1s 153ms/step - loss: 0.5400 - acc: 0.8300 - val_loss: 0.7327 - val_acc: 0.4957\n",
      "Epoch 10/10\n",
      "7/7 [==============================] - 1s 153ms/step - loss: 0.5228 - acc: 0.8550 - val_loss: 0.7294 - val_acc: 0.5003\n"
     ]
    }
   ],
   "source": [
    "from keras import optimizers\n",
    "\n",
    "model.compile(optimizer=optimizers.RMSprop(lr=2e-5), loss='binary_crossentropy', metrics=['acc'])\n",
    "\n",
    "history = model.fit(x_train, y_train, epochs=10, batch_size=32, validation_data=(x_val, y_val))\n",
    "model.save_weights('pre_trained_glove_model.h5')"
   ]
  },
  {
   "cell_type": "code",
   "execution_count": 21,
   "id": "6e0cc7e0",
   "metadata": {},
   "outputs": [
    {
     "data": {
      "image/png": "[encoded data removed]",
      "text/plain": [
       "<Figure size 640x480 with 1 Axes>"
      ]
     },
     "metadata": {},
     "output_type": "display_data"
    },
    {
     "data": {
      "image/png": "[encoded data removed]",
      "text/plain": [
       "<Figure size 640x480 with 1 Axes>"
      ]
     },
     "metadata": {},
     "output_type": "display_data"
    }
   ],
   "source": [
    "import matplotlib.pyplot as plt\n",
    "\n",
    "acc = history.history['acc']\n",
    "val_acc = history.history['val_acc']\n",
    "loss = history.history['loss']\n",
    "val_loss = history.history['val_loss']\n",
    "\n",
    "epochs = range(1, len(acc) + 1)\n",
    "\n",
    "plt.plot(epochs, acc, 'bo', label='Training acc')\n",
    "plt.plot(epochs, val_acc, 'b', label='Validation acc')\n",
    "plt.title('Training and validation accuracy')\n",
    "plt.legend()\n",
    "\n",
    "plt.figure()\n",
    "\n",
    "plt.plot(epochs, loss, 'bo', label='Training loss')\n",
    "plt.plot(epochs, val_loss, 'b', label='Validation loss')\n",
    "plt.title('Training and validation loss')\n",
    "plt.legend()\n",
    "\n",
    "plt.show()"
   ]
  },
  {
   "cell_type": "markdown",
   "id": "18ac3309",
   "metadata": {},
   "source": [
    "과대적합 되었고 검증 정확도와 훈련 정확도 사이 차이가 굉장히 큼"
   ]
  },
  {
   "cell_type": "markdown",
   "id": "16d66ac9",
   "metadata": {},
   "source": [
    "## 사전 훈련된 단어 임베딩을 사용하지 않고 모델 훈련"
   ]
  },
  {
   "cell_type": "code",
   "execution_count": 22,
   "id": "fb0e6f35",
   "metadata": {},
   "outputs": [
    {
     "name": "stdout",
     "output_type": "stream",
     "text": [
      "Model: \"sequential_2\"\n",
      "_________________________________________________________________\n",
      " Layer (type)                Output Shape              Param #   \n",
      "=================================================================\n",
      " embedding_2 (Embedding)     (None, 100, 100)          1000000   \n",
      "                                                                 \n",
      " flatten_2 (Flatten)         (None, 10000)             0         \n",
      "                                                                 \n",
      " dense_4 (Dense)             (None, 32)                320032    \n",
      "                                                                 \n",
      " dense_5 (Dense)             (None, 1)                 33        \n",
      "                                                                 \n",
      "=================================================================\n",
      "Total params: 1,320,065\n",
      "Trainable params: 1,320,065\n",
      "Non-trainable params: 0\n",
      "_________________________________________________________________\n",
      "Epoch 1/10\n"
     ]
    },
    {
     "name": "stderr",
     "output_type": "stream",
     "text": [
      "/Users/hangyojeong/miniforge3/envs/m1_tf_keras/lib/python3.9/site-packages/keras/optimizers/optimizer_v2/rmsprop.py:143: UserWarning: The `lr` argument is deprecated, use `learning_rate` instead.\n",
      "  super().__init__(name, **kwargs)\n",
      "2022-12-23 16:15:56.942712: I tensorflow/core/grappler/optimizers/custom_graph_optimizer_registry.cc:114] Plugin optimizer for device_type GPU is enabled.\n"
     ]
    },
    {
     "name": "stdout",
     "output_type": "stream",
     "text": [
      "7/7 [==============================] - ETA: 0s - loss: 0.6917 - acc: 0.5150"
     ]
    },
    {
     "name": "stderr",
     "output_type": "stream",
     "text": [
      "2022-12-23 16:15:57.454951: I tensorflow/core/grappler/optimizers/custom_graph_optimizer_registry.cc:114] Plugin optimizer for device_type GPU is enabled.\n"
     ]
    },
    {
     "name": "stdout",
     "output_type": "stream",
     "text": [
      "7/7 [==============================] - 2s 205ms/step - loss: 0.6917 - acc: 0.5150 - val_loss: 0.6929 - val_acc: 0.5074\n",
      "Epoch 2/10\n",
      "7/7 [==============================] - 1s 164ms/step - loss: 0.6853 - acc: 0.6500 - val_loss: 0.6929 - val_acc: 0.5063\n",
      "Epoch 3/10\n",
      "7/7 [==============================] - 1s 168ms/step - loss: 0.6814 - acc: 0.7050 - val_loss: 0.6929 - val_acc: 0.5067\n",
      "Epoch 4/10\n",
      "7/7 [==============================] - 1s 166ms/step - loss: 0.6780 - acc: 0.7700 - val_loss: 0.6929 - val_acc: 0.5075\n",
      "Epoch 5/10\n",
      "7/7 [==============================] - 1s 162ms/step - loss: 0.6749 - acc: 0.8300 - val_loss: 0.6929 - val_acc: 0.5087\n",
      "Epoch 6/10\n",
      "7/7 [==============================] - 1s 164ms/step - loss: 0.6718 - acc: 0.8600 - val_loss: 0.6929 - val_acc: 0.5091\n",
      "Epoch 7/10\n",
      "7/7 [==============================] - 1s 163ms/step - loss: 0.6688 - acc: 0.8750 - val_loss: 0.6929 - val_acc: 0.5095\n",
      "Epoch 8/10\n",
      "7/7 [==============================] - 1s 163ms/step - loss: 0.6658 - acc: 0.9000 - val_loss: 0.6929 - val_acc: 0.5089\n",
      "Epoch 9/10\n",
      "7/7 [==============================] - 1s 162ms/step - loss: 0.6629 - acc: 0.9250 - val_loss: 0.6929 - val_acc: 0.5085\n",
      "Epoch 10/10\n",
      "7/7 [==============================] - 1s 166ms/step - loss: 0.6600 - acc: 0.9400 - val_loss: 0.6929 - val_acc: 0.5092\n"
     ]
    }
   ],
   "source": [
    "from keras.models import Sequential\n",
    "from keras.layers import Embedding, Flatten, Dense\n",
    "\n",
    "model = Sequential()\n",
    "model.add(Embedding(max_words, embedding_dim, input_length=maxlen))\n",
    "model.add(Flatten())\n",
    "model.add(Dense(32, activation='relu'))\n",
    "model.add(Dense(1, activation='sigmoid'))\n",
    "model.summary()\n",
    "\n",
    "model.compile(optimizer=optimizers.RMSprop(lr=2e-5), loss='binary_crossentropy', metrics=['acc'])\n",
    "\n",
    "history = model.fit(x_train, y_train, epochs=10, batch_size=32, validation_data=(x_val, y_val))"
   ]
  },
  {
   "cell_type": "code",
   "execution_count": 23,
   "id": "d1f2da9b",
   "metadata": {},
   "outputs": [
    {
     "data": {
      "image/png": "[encoded data removed]",
      "text/plain": [
       "<Figure size 640x480 with 1 Axes>"
      ]
     },
     "metadata": {},
     "output_type": "display_data"
    },
    {
     "data": {
      "image/png": "[encoded data removed]",
      "text/plain": [
       "<Figure size 640x480 with 1 Axes>"
      ]
     },
     "metadata": {},
     "output_type": "display_data"
    }
   ],
   "source": [
    "import matplotlib.pyplot as plt\n",
    "\n",
    "acc = history.history['acc']\n",
    "val_acc = history.history['val_acc']\n",
    "loss = history.history['loss']\n",
    "val_loss = history.history['val_loss']\n",
    "\n",
    "epochs = range(1, len(acc) + 1)\n",
    "\n",
    "plt.plot(epochs, acc, 'bo', label='Training acc')\n",
    "plt.plot(epochs, val_acc, 'b', label='Validation acc')\n",
    "plt.title('Training and validation accuracy')\n",
    "plt.legend()\n",
    "\n",
    "plt.figure()\n",
    "\n",
    "plt.plot(epochs, loss, 'bo', label='Training loss')\n",
    "plt.plot(epochs, val_loss, 'b', label='Validation loss')\n",
    "plt.title('Training and validation loss')\n",
    "plt.legend()\n",
    "\n",
    "plt.show()"
   ]
  },
  {
   "cell_type": "code",
   "execution_count": 25,
   "id": "dc736304",
   "metadata": {},
   "outputs": [],
   "source": [
    "sequences = tokenizer.texts_to_sequences(texts)\n",
    "x_test = pad_sequences(sequences, maxlen=maxlen)\n",
    "y_test = np.asarray(labels)"
   ]
  },
  {
   "cell_type": "code",
   "execution_count": 26,
   "id": "eb7a3301",
   "metadata": {},
   "outputs": [
    {
     "name": "stdout",
     "output_type": "stream",
     "text": [
      "782/782 [==============================] - 3s 3ms/step - loss: 0.7240 - acc: 0.5005\n"
     ]
    },
    {
     "data": {
      "text/plain": [
       "[0.7239874601364136, 0.5005200505256653]"
      ]
     },
     "execution_count": 26,
     "metadata": {},
     "output_type": "execute_result"
    }
   ],
   "source": [
    "model.load_weights('pre_trained_glove_model.h5')\n",
    "model.evaluate(x_test, y_test)"
   ]
  },
  {
   "cell_type": "code",
   "execution_count": null,
   "id": "ae896881",
   "metadata": {},
   "outputs": [],
   "source": []
  }
 ],
 "metadata": {
  "kernelspec": {
   "display_name": "Python 3 (ipykernel)",
   "language": "python",
   "name": "python3"
  },
  "language_info": {
   "codemirror_mode": {
    "name": "ipython",
    "version": 3
   },
   "file_extension": ".py",
   "mimetype": "text/x-python",
   "name": "python",
   "nbconvert_exporter": "python",
   "pygments_lexer": "ipython3",
   "version": "3.9.15"
  }
 },
 "nbformat": 4,
 "nbformat_minor": 5
}
