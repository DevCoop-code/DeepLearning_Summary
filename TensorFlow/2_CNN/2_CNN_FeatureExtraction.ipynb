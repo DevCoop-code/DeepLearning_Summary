{
 "cells": [
  {
   "cell_type": "code",
   "execution_count": 1,
   "id": "000d7d23",
   "metadata": {},
   "outputs": [
    {
     "name": "stderr",
     "output_type": "stream",
     "text": [
      "/Users/hangyojeong/miniforge3/envs/m1_tf_keras/lib/python3.9/site-packages/scipy/__init__.py:146: UserWarning: A NumPy version >=1.16.5 and <1.23.0 is required for this version of SciPy (detected version 1.23.2\n",
      "  warnings.warn(f\"A NumPy version >={np_minversion} and <{np_maxversion}\"\n"
     ]
    },
    {
     "name": "stdout",
     "output_type": "stream",
     "text": [
      "Metal device set to: Apple M1\n"
     ]
    },
    {
     "name": "stderr",
     "output_type": "stream",
     "text": [
      "2022-12-21 12:41:51.482690: I tensorflow/core/common_runtime/pluggable_device/pluggable_device_factory.cc:306] Could not identify NUMA node of platform GPU ID 0, defaulting to 0. Your kernel may not have been built with NUMA support.\n",
      "2022-12-21 12:41:51.483011: I tensorflow/core/common_runtime/pluggable_device/pluggable_device_factory.cc:272] Created TensorFlow device (/job:localhost/replica:0/task:0/device:GPU:0 with 0 MB memory) -> physical PluggableDevice (device: 0, name: METAL, pci bus id: <undefined>)\n"
     ]
    },
    {
     "name": "stdout",
     "output_type": "stream",
     "text": [
      "Downloading data from https://storage.googleapis.com/tensorflow/keras-applications/vgg16/vgg16_weights_tf_dim_ordering_tf_kernels_notop.h5\n",
      "58889256/58889256 [==============================] - 7s 0us/step\n"
     ]
    }
   ],
   "source": [
    "from keras.applications import VGG16\n",
    "\n",
    "conv_base = VGG16(weights='imagenet', include_top=False, input_shape=(150, 150, 3))"
   ]
  },
  {
   "cell_type": "markdown",
   "id": "1bbcd251",
   "metadata": {},
   "source": [
    "매개변수\n",
    "\n",
    "- weights: 모델을 초기화할 가중치 체크포인트\n",
    "- include_top: 네트워크의 최상위 완전 연결 분류기 포함 여부\n",
    "- input_shape: 네트워크에 주입할 이미지 텐서의 크기, 이 파라미터는 선택 사항으로 값을 지정하지 않을시 네트워크가 어떤 크기의 입력도 처리할 수 있음"
   ]
  },
  {
   "cell_type": "code",
   "execution_count": 2,
   "id": "1adcdbf6",
   "metadata": {},
   "outputs": [
    {
     "name": "stdout",
     "output_type": "stream",
     "text": [
      "Model: \"vgg16\"\n",
      "_________________________________________________________________\n",
      " Layer (type)                Output Shape              Param #   \n",
      "=================================================================\n",
      " input_1 (InputLayer)        [(None, 150, 150, 3)]     0         \n",
      "                                                                 \n",
      " block1_conv1 (Conv2D)       (None, 150, 150, 64)      1792      \n",
      "                                                                 \n",
      " block1_conv2 (Conv2D)       (None, 150, 150, 64)      36928     \n",
      "                                                                 \n",
      " block1_pool (MaxPooling2D)  (None, 75, 75, 64)        0         \n",
      "                                                                 \n",
      " block2_conv1 (Conv2D)       (None, 75, 75, 128)       73856     \n",
      "                                                                 \n",
      " block2_conv2 (Conv2D)       (None, 75, 75, 128)       147584    \n",
      "                                                                 \n",
      " block2_pool (MaxPooling2D)  (None, 37, 37, 128)       0         \n",
      "                                                                 \n",
      " block3_conv1 (Conv2D)       (None, 37, 37, 256)       295168    \n",
      "                                                                 \n",
      " block3_conv2 (Conv2D)       (None, 37, 37, 256)       590080    \n",
      "                                                                 \n",
      " block3_conv3 (Conv2D)       (None, 37, 37, 256)       590080    \n",
      "                                                                 \n",
      " block3_pool (MaxPooling2D)  (None, 18, 18, 256)       0         \n",
      "                                                                 \n",
      " block4_conv1 (Conv2D)       (None, 18, 18, 512)       1180160   \n",
      "                                                                 \n",
      " block4_conv2 (Conv2D)       (None, 18, 18, 512)       2359808   \n",
      "                                                                 \n",
      " block4_conv3 (Conv2D)       (None, 18, 18, 512)       2359808   \n",
      "                                                                 \n",
      " block4_pool (MaxPooling2D)  (None, 9, 9, 512)         0         \n",
      "                                                                 \n",
      " block5_conv1 (Conv2D)       (None, 9, 9, 512)         2359808   \n",
      "                                                                 \n",
      " block5_conv2 (Conv2D)       (None, 9, 9, 512)         2359808   \n",
      "                                                                 \n",
      " block5_conv3 (Conv2D)       (None, 9, 9, 512)         2359808   \n",
      "                                                                 \n",
      " block5_pool (MaxPooling2D)  (None, 4, 4, 512)         0         \n",
      "                                                                 \n",
      "=================================================================\n",
      "Total params: 14,714,688\n",
      "Trainable params: 14,714,688\n",
      "Non-trainable params: 0\n",
      "_________________________________________________________________\n"
     ]
    }
   ],
   "source": [
    "conv_base.summary()"
   ]
  },
  {
   "cell_type": "markdown",
   "id": "9edeb63a",
   "metadata": {},
   "source": [
    "최종 특성 맵의 크기는 (4, 4, 512)로 이 특성 위에 완전 연결 층을 얹을 예정\n",
    "\n",
    "두 가지 방법이 존재\n",
    "- 새로운 데이터셋에서 합성곱 기반 층을 실행하고 출력을 넘파이 배열로 디스크에 저장, 그 다음 이 데이터를 독립된 완전 연결 분류기에 입력으로 사용\n",
    "  - 모든 입력 이미지에 대해 합성곱 기반 층을 한 번만 실행하면 되기 때문에 빠르고 비용이 적게드는 방법 \n",
    "  - but, 데이터 증식을 사용할 수 없음\n",
    "- 준비된 모델 위에 Dense 층을 쌓아 확장. 그 다음 입력 데이터에서 end-to-end로 전체 모델을 실행\n",
    "  - 모델에 노출된 모든 입력 이미지가 매번 합성곱 기반층을 통과하기에 데이터 증식 사용 가능\n",
    "  - 첫번째 방식보단 비용이 많이 듬"
   ]
  },
  {
   "cell_type": "markdown",
   "id": "2aa483de",
   "metadata": {},
   "source": [
    "## 데이터 증식을 사용하지 않는 빠른 특성 추출"
   ]
  },
  {
   "cell_type": "code",
   "execution_count": 7,
   "id": "0a1cc84f",
   "metadata": {},
   "outputs": [
    {
     "name": "stdout",
     "output_type": "stream",
     "text": [
      "Found 2000 images belonging to 2 classes.\n"
     ]
    },
    {
     "name": "stderr",
     "output_type": "stream",
     "text": [
      "2022-12-21 12:56:05.340190: W tensorflow/tsl/platform/profile_utils/cpu_utils.cc:128] Failed to get CPU frequency: 0 Hz\n",
      "2022-12-21 12:56:05.409407: I tensorflow/core/grappler/optimizers/custom_graph_optimizer_registry.cc:114] Plugin optimizer for device_type GPU is enabled.\n"
     ]
    },
    {
     "name": "stdout",
     "output_type": "stream",
     "text": [
      "1/1 [==============================] - 1s 616ms/step\n",
      "1/1 [==============================] - 0s 14ms/step\n",
      "1/1 [==============================] - 0s 23ms/step\n",
      "1/1 [==============================] - 0s 12ms/step\n",
      "1/1 [==============================] - 0s 12ms/step\n",
      "1/1 [==============================] - 0s 11ms/step\n",
      "1/1 [==============================] - 0s 11ms/step\n",
      "1/1 [==============================] - 0s 15ms/step\n",
      "1/1 [==============================] - 0s 11ms/step\n",
      "1/1 [==============================] - 0s 13ms/step\n",
      "1/1 [==============================] - 0s 11ms/step\n",
      "1/1 [==============================] - 0s 12ms/step\n",
      "1/1 [==============================] - 0s 11ms/step\n",
      "1/1 [==============================] - 0s 12ms/step\n",
      "1/1 [==============================] - 0s 11ms/step\n",
      "1/1 [==============================] - 0s 12ms/step\n",
      "1/1 [==============================] - 0s 11ms/step\n",
      "1/1 [==============================] - 0s 12ms/step\n",
      "1/1 [==============================] - 0s 11ms/step\n",
      "1/1 [==============================] - 0s 11ms/step\n",
      "1/1 [==============================] - 0s 11ms/step\n",
      "1/1 [==============================] - 0s 12ms/step\n",
      "1/1 [==============================] - 0s 11ms/step\n",
      "1/1 [==============================] - 0s 11ms/step\n",
      "1/1 [==============================] - 0s 11ms/step\n",
      "1/1 [==============================] - 0s 11ms/step\n",
      "1/1 [==============================] - 0s 11ms/step\n",
      "1/1 [==============================] - 0s 11ms/step\n",
      "1/1 [==============================] - 0s 12ms/step\n",
      "1/1 [==============================] - 0s 11ms/step\n",
      "1/1 [==============================] - 0s 11ms/step\n",
      "1/1 [==============================] - 0s 12ms/step\n",
      "1/1 [==============================] - 0s 11ms/step\n",
      "1/1 [==============================] - 0s 11ms/step\n",
      "1/1 [==============================] - 0s 12ms/step\n",
      "1/1 [==============================] - 0s 11ms/step\n",
      "1/1 [==============================] - 0s 11ms/step\n",
      "1/1 [==============================] - 0s 11ms/step\n",
      "1/1 [==============================] - 0s 11ms/step\n",
      "1/1 [==============================] - 0s 11ms/step\n",
      "1/1 [==============================] - 0s 11ms/step\n",
      "1/1 [==============================] - 0s 11ms/step\n",
      "1/1 [==============================] - 0s 11ms/step\n",
      "1/1 [==============================] - 0s 12ms/step\n",
      "1/1 [==============================] - 0s 12ms/step\n",
      "1/1 [==============================] - 0s 11ms/step\n",
      "1/1 [==============================] - 0s 15ms/step\n",
      "1/1 [==============================] - 0s 11ms/step\n",
      "1/1 [==============================] - 0s 12ms/step\n",
      "1/1 [==============================] - 0s 11ms/step\n",
      "1/1 [==============================] - 0s 11ms/step\n",
      "1/1 [==============================] - 0s 11ms/step\n",
      "1/1 [==============================] - 0s 11ms/step\n",
      "1/1 [==============================] - 0s 11ms/step\n",
      "1/1 [==============================] - 0s 11ms/step\n",
      "1/1 [==============================] - 0s 11ms/step\n",
      "1/1 [==============================] - 0s 11ms/step\n",
      "1/1 [==============================] - 0s 12ms/step\n",
      "1/1 [==============================] - 0s 13ms/step\n",
      "1/1 [==============================] - 0s 12ms/step\n",
      "1/1 [==============================] - 0s 12ms/step\n",
      "1/1 [==============================] - 0s 13ms/step\n",
      "1/1 [==============================] - 0s 12ms/step\n",
      "1/1 [==============================] - 0s 12ms/step\n",
      "1/1 [==============================] - 0s 12ms/step\n",
      "1/1 [==============================] - 0s 12ms/step\n",
      "1/1 [==============================] - 0s 11ms/step\n",
      "1/1 [==============================] - 0s 12ms/step\n",
      "1/1 [==============================] - 0s 12ms/step\n",
      "1/1 [==============================] - 0s 12ms/step\n",
      "1/1 [==============================] - 0s 12ms/step\n",
      "1/1 [==============================] - 0s 12ms/step\n",
      "1/1 [==============================] - 0s 11ms/step\n",
      "1/1 [==============================] - 0s 12ms/step\n",
      "1/1 [==============================] - 0s 13ms/step\n",
      "1/1 [==============================] - 0s 12ms/step\n",
      "1/1 [==============================] - 0s 11ms/step\n",
      "1/1 [==============================] - 0s 11ms/step\n",
      "1/1 [==============================] - 0s 11ms/step\n",
      "1/1 [==============================] - 0s 11ms/step\n",
      "1/1 [==============================] - 0s 11ms/step\n",
      "1/1 [==============================] - 0s 12ms/step\n",
      "1/1 [==============================] - 0s 12ms/step\n",
      "1/1 [==============================] - 0s 12ms/step\n",
      "1/1 [==============================] - 0s 12ms/step\n",
      "1/1 [==============================] - 0s 12ms/step\n",
      "1/1 [==============================] - 0s 12ms/step\n",
      "1/1 [==============================] - 0s 12ms/step\n",
      "1/1 [==============================] - 0s 11ms/step\n",
      "1/1 [==============================] - 0s 12ms/step\n",
      "1/1 [==============================] - 0s 12ms/step\n",
      "1/1 [==============================] - 0s 12ms/step\n",
      "1/1 [==============================] - 0s 12ms/step\n",
      "1/1 [==============================] - 0s 13ms/step\n",
      "1/1 [==============================] - 0s 12ms/step\n",
      "1/1 [==============================] - 0s 12ms/step\n",
      "1/1 [==============================] - 0s 11ms/step\n",
      "1/1 [==============================] - 0s 11ms/step\n",
      "1/1 [==============================] - 0s 12ms/step\n",
      "1/1 [==============================] - 0s 11ms/step\n",
      "Found 1000 images belonging to 2 classes.\n",
      "1/1 [==============================] - 0s 11ms/step\n",
      "1/1 [==============================] - 0s 11ms/step\n",
      "1/1 [==============================] - 0s 11ms/step\n",
      "1/1 [==============================] - 0s 11ms/step\n",
      "1/1 [==============================] - 0s 11ms/step\n",
      "1/1 [==============================] - 0s 12ms/step\n",
      "1/1 [==============================] - 0s 12ms/step\n",
      "1/1 [==============================] - 0s 12ms/step\n",
      "1/1 [==============================] - 0s 12ms/step\n",
      "1/1 [==============================] - 0s 11ms/step\n",
      "1/1 [==============================] - 0s 11ms/step\n",
      "1/1 [==============================] - 0s 11ms/step\n",
      "1/1 [==============================] - 0s 12ms/step\n",
      "1/1 [==============================] - 0s 12ms/step\n",
      "1/1 [==============================] - 0s 12ms/step\n",
      "1/1 [==============================] - 0s 12ms/step\n",
      "1/1 [==============================] - 0s 11ms/step\n",
      "1/1 [==============================] - 0s 12ms/step\n",
      "1/1 [==============================] - 0s 12ms/step\n",
      "1/1 [==============================] - 0s 12ms/step\n",
      "1/1 [==============================] - 0s 12ms/step\n",
      "1/1 [==============================] - 0s 12ms/step\n",
      "1/1 [==============================] - 0s 12ms/step\n",
      "1/1 [==============================] - 0s 12ms/step\n",
      "1/1 [==============================] - 0s 11ms/step\n",
      "1/1 [==============================] - 0s 12ms/step\n",
      "1/1 [==============================] - 0s 12ms/step\n",
      "1/1 [==============================] - 0s 12ms/step\n",
      "1/1 [==============================] - 0s 12ms/step\n",
      "1/1 [==============================] - 0s 11ms/step\n",
      "1/1 [==============================] - 0s 11ms/step\n",
      "1/1 [==============================] - 0s 21ms/step\n",
      "1/1 [==============================] - 0s 12ms/step\n",
      "1/1 [==============================] - 0s 12ms/step\n",
      "1/1 [==============================] - 0s 12ms/step\n",
      "1/1 [==============================] - 0s 16ms/step\n",
      "1/1 [==============================] - 0s 12ms/step\n",
      "1/1 [==============================] - 0s 11ms/step\n",
      "1/1 [==============================] - 0s 11ms/step\n",
      "1/1 [==============================] - 0s 12ms/step\n",
      "1/1 [==============================] - 0s 11ms/step\n",
      "1/1 [==============================] - 0s 12ms/step\n",
      "1/1 [==============================] - 0s 11ms/step\n",
      "1/1 [==============================] - 0s 12ms/step\n",
      "1/1 [==============================] - 0s 12ms/step\n",
      "1/1 [==============================] - 0s 12ms/step\n",
      "1/1 [==============================] - 0s 13ms/step\n",
      "1/1 [==============================] - 0s 12ms/step\n",
      "1/1 [==============================] - 0s 12ms/step\n",
      "1/1 [==============================] - 0s 11ms/step\n",
      "Found 1000 images belonging to 2 classes.\n",
      "1/1 [==============================] - 0s 10ms/step\n",
      "1/1 [==============================] - 0s 12ms/step\n",
      "1/1 [==============================] - 0s 12ms/step\n",
      "1/1 [==============================] - 0s 12ms/step\n",
      "1/1 [==============================] - 0s 11ms/step\n",
      "1/1 [==============================] - 0s 12ms/step\n"
     ]
    },
    {
     "name": "stdout",
     "output_type": "stream",
     "text": [
      "1/1 [==============================] - 0s 12ms/step\n",
      "1/1 [==============================] - 0s 12ms/step\n",
      "1/1 [==============================] - 0s 12ms/step\n",
      "1/1 [==============================] - 0s 12ms/step\n",
      "1/1 [==============================] - 0s 13ms/step\n",
      "1/1 [==============================] - 0s 11ms/step\n",
      "1/1 [==============================] - 0s 14ms/step\n",
      "1/1 [==============================] - 0s 12ms/step\n",
      "1/1 [==============================] - 0s 12ms/step\n",
      "1/1 [==============================] - 0s 11ms/step\n",
      "1/1 [==============================] - 0s 11ms/step\n",
      "1/1 [==============================] - 0s 12ms/step\n",
      "1/1 [==============================] - 0s 12ms/step\n",
      "1/1 [==============================] - 0s 11ms/step\n",
      "1/1 [==============================] - 0s 12ms/step\n",
      "1/1 [==============================] - 0s 14ms/step\n",
      "1/1 [==============================] - 0s 12ms/step\n",
      "1/1 [==============================] - 0s 13ms/step\n",
      "1/1 [==============================] - 0s 12ms/step\n",
      "1/1 [==============================] - 0s 12ms/step\n",
      "1/1 [==============================] - 0s 12ms/step\n",
      "1/1 [==============================] - 0s 15ms/step\n",
      "1/1 [==============================] - 0s 12ms/step\n",
      "1/1 [==============================] - 0s 12ms/step\n",
      "1/1 [==============================] - 0s 12ms/step\n",
      "1/1 [==============================] - 0s 12ms/step\n",
      "1/1 [==============================] - 0s 12ms/step\n",
      "1/1 [==============================] - 0s 12ms/step\n",
      "1/1 [==============================] - 0s 12ms/step\n",
      "1/1 [==============================] - 0s 12ms/step\n",
      "1/1 [==============================] - 0s 12ms/step\n",
      "1/1 [==============================] - 0s 12ms/step\n",
      "1/1 [==============================] - 0s 12ms/step\n",
      "1/1 [==============================] - 0s 15ms/step\n",
      "1/1 [==============================] - 0s 19ms/step\n",
      "1/1 [==============================] - 0s 15ms/step\n",
      "1/1 [==============================] - 0s 12ms/step\n",
      "1/1 [==============================] - 0s 12ms/step\n",
      "1/1 [==============================] - 0s 11ms/step\n",
      "1/1 [==============================] - 0s 12ms/step\n",
      "1/1 [==============================] - 0s 12ms/step\n",
      "1/1 [==============================] - 0s 12ms/step\n",
      "1/1 [==============================] - 0s 13ms/step\n",
      "1/1 [==============================] - 0s 13ms/step\n"
     ]
    }
   ],
   "source": [
    "import os\n",
    "import numpy as np\n",
    "from keras.preprocessing.image import ImageDataGenerator\n",
    "\n",
    "base_dir = './dogs-vs-cats/cats_and_dogs_small'\n",
    "train_dir = os.path.join(base_dir, 'train')\n",
    "validation_dir = os.path.join(base_dir, 'validation')\n",
    "test_dir = os.path.join(base_dir, 'test')\n",
    "\n",
    "datagen = ImageDataGenerator(rescale=1./255)\n",
    "batch_size = 20\n",
    "\n",
    "def extract_features(directory, sample_count):\n",
    "    features = np.zeros(shape=(sample_count, 4, 4, 512))\n",
    "    labels = np.zeros(shape=(sample_count))\n",
    "    generator = datagen.flow_from_directory(directory, \n",
    "                                            target_size=(150, 150), \n",
    "                                            batch_size=batch_size, \n",
    "                                            class_mode='binary')\n",
    "    \n",
    "    i = 0\n",
    "    for inputs_batch, labels_batch in generator:\n",
    "        features_batch = conv_base.predict(inputs_batch)\n",
    "        features[i * batch_size : (i + 1) * batch_size] = features_batch\n",
    "        labels[i * batch_size : (i + 1) * batch_size] = labels_batch\n",
    "        \n",
    "        i += 1\n",
    "        if i * batch_size >= sample_count:\n",
    "            break  # 제너레이터는 루프 안에서 무한하게 데이터를 만들어 내므로 모든 이미지를 한 번씩 처리하고 나면 중지\n",
    "    return features, labels\n",
    "\n",
    "train_features, train_labels = extract_features(train_dir, 2000)\n",
    "validation_features, validation_labels = extract_features(validation_dir, 1000)\n",
    "test_features, test_labels = extract_features(test_dir, 1000)"
   ]
  },
  {
   "cell_type": "markdown",
   "id": "c845a1f4",
   "metadata": {},
   "source": [
    "추출된 특성의 크기는 (samples, 4, 4, 512)\n",
    "\n",
    "완전 연결 분류기에 주입전 (samples, 8192)로 펼침"
   ]
  },
  {
   "cell_type": "code",
   "execution_count": 8,
   "id": "a03d5430",
   "metadata": {},
   "outputs": [],
   "source": [
    "train_features = np.reshape(train_features, (2000, 4 * 4 * 512))\n",
    "validation_features = np.reshape(validation_features, (1000, 4 * 4 * 512))\n",
    "test_features = np.reshape(test_features, (1000, 4 * 4 * 512))"
   ]
  },
  {
   "cell_type": "code",
   "execution_count": 9,
   "id": "7ae2a012",
   "metadata": {},
   "outputs": [
    {
     "name": "stdout",
     "output_type": "stream",
     "text": [
      "Epoch 1/30\n"
     ]
    },
    {
     "name": "stderr",
     "output_type": "stream",
     "text": [
      "/Users/hangyojeong/miniforge3/envs/m1_tf_keras/lib/python3.9/site-packages/keras/optimizers/optimizer_v2/rmsprop.py:143: UserWarning: The `lr` argument is deprecated, use `learning_rate` instead.\n",
      "  super().__init__(name, **kwargs)\n",
      "2022-12-21 13:01:50.273719: I tensorflow/core/grappler/optimizers/custom_graph_optimizer_registry.cc:114] Plugin optimizer for device_type GPU is enabled.\n"
     ]
    },
    {
     "name": "stdout",
     "output_type": "stream",
     "text": [
      "100/100 [==============================] - 3s 10ms/step - loss: 0.5887 - acc: 0.6810 - val_loss: 0.4420 - val_acc: 0.8480\n",
      "Epoch 2/30\n",
      "  1/100 [..............................] - ETA: 0s - loss: 0.4979 - acc: 0.7000"
     ]
    },
    {
     "name": "stderr",
     "output_type": "stream",
     "text": [
      "2022-12-21 13:01:52.823815: I tensorflow/core/grappler/optimizers/custom_graph_optimizer_registry.cc:114] Plugin optimizer for device_type GPU is enabled.\n"
     ]
    },
    {
     "name": "stdout",
     "output_type": "stream",
     "text": [
      "100/100 [==============================] - 1s 9ms/step - loss: 0.3957 - acc: 0.8390 - val_loss: 0.3531 - val_acc: 0.8680\n",
      "Epoch 3/30\n",
      "100/100 [==============================] - 1s 8ms/step - loss: 0.3287 - acc: 0.8740 - val_loss: 0.3122 - val_acc: 0.8830\n",
      "Epoch 4/30\n",
      "100/100 [==============================] - 1s 8ms/step - loss: 0.2879 - acc: 0.8865 - val_loss: 0.2949 - val_acc: 0.8790\n",
      "Epoch 5/30\n",
      "100/100 [==============================] - 1s 8ms/step - loss: 0.2604 - acc: 0.9025 - val_loss: 0.2795 - val_acc: 0.8830\n",
      "Epoch 6/30\n",
      "100/100 [==============================] - 1s 9ms/step - loss: 0.2416 - acc: 0.9105 - val_loss: 0.2699 - val_acc: 0.8880\n",
      "Epoch 7/30\n",
      "100/100 [==============================] - 1s 8ms/step - loss: 0.2280 - acc: 0.9130 - val_loss: 0.2599 - val_acc: 0.8900\n",
      "Epoch 8/30\n",
      "100/100 [==============================] - 1s 8ms/step - loss: 0.2071 - acc: 0.9280 - val_loss: 0.2661 - val_acc: 0.8900\n",
      "Epoch 9/30\n",
      "100/100 [==============================] - 1s 8ms/step - loss: 0.1987 - acc: 0.9290 - val_loss: 0.2494 - val_acc: 0.9020\n",
      "Epoch 10/30\n",
      "100/100 [==============================] - 1s 9ms/step - loss: 0.1841 - acc: 0.9400 - val_loss: 0.2535 - val_acc: 0.8910\n",
      "Epoch 11/30\n",
      "100/100 [==============================] - 1s 8ms/step - loss: 0.1743 - acc: 0.9370 - val_loss: 0.2433 - val_acc: 0.9050\n",
      "Epoch 12/30\n",
      "100/100 [==============================] - 1s 8ms/step - loss: 0.1676 - acc: 0.9390 - val_loss: 0.2438 - val_acc: 0.8970\n",
      "Epoch 13/30\n",
      "100/100 [==============================] - 1s 8ms/step - loss: 0.1609 - acc: 0.9460 - val_loss: 0.2589 - val_acc: 0.8880\n",
      "Epoch 14/30\n",
      "100/100 [==============================] - 1s 9ms/step - loss: 0.1490 - acc: 0.9520 - val_loss: 0.2431 - val_acc: 0.8950\n",
      "Epoch 15/30\n",
      "100/100 [==============================] - 1s 8ms/step - loss: 0.1437 - acc: 0.9530 - val_loss: 0.2395 - val_acc: 0.8990\n",
      "Epoch 16/30\n",
      "100/100 [==============================] - 1s 8ms/step - loss: 0.1386 - acc: 0.9545 - val_loss: 0.2389 - val_acc: 0.8980\n",
      "Epoch 17/30\n",
      "100/100 [==============================] - 1s 8ms/step - loss: 0.1290 - acc: 0.9590 - val_loss: 0.2556 - val_acc: 0.8920\n",
      "Epoch 18/30\n",
      "100/100 [==============================] - 1s 8ms/step - loss: 0.1246 - acc: 0.9570 - val_loss: 0.2364 - val_acc: 0.9020\n",
      "Epoch 19/30\n",
      "100/100 [==============================] - 1s 8ms/step - loss: 0.1172 - acc: 0.9620 - val_loss: 0.2457 - val_acc: 0.8950\n",
      "Epoch 20/30\n",
      "100/100 [==============================] - 1s 8ms/step - loss: 0.1183 - acc: 0.9595 - val_loss: 0.2609 - val_acc: 0.8910\n",
      "Epoch 21/30\n",
      "100/100 [==============================] - 1s 8ms/step - loss: 0.1114 - acc: 0.9635 - val_loss: 0.2449 - val_acc: 0.8980\n",
      "Epoch 22/30\n",
      "100/100 [==============================] - 1s 8ms/step - loss: 0.1033 - acc: 0.9680 - val_loss: 0.2404 - val_acc: 0.8970\n",
      "Epoch 23/30\n",
      "100/100 [==============================] - 1s 8ms/step - loss: 0.1026 - acc: 0.9680 - val_loss: 0.2387 - val_acc: 0.9060\n",
      "Epoch 24/30\n",
      "100/100 [==============================] - 1s 8ms/step - loss: 0.0956 - acc: 0.9715 - val_loss: 0.2515 - val_acc: 0.8940\n",
      "Epoch 25/30\n",
      "100/100 [==============================] - 1s 8ms/step - loss: 0.0910 - acc: 0.9760 - val_loss: 0.2431 - val_acc: 0.8990\n",
      "Epoch 26/30\n",
      "100/100 [==============================] - 1s 8ms/step - loss: 0.0871 - acc: 0.9715 - val_loss: 0.2422 - val_acc: 0.8970\n",
      "Epoch 27/30\n",
      "100/100 [==============================] - 1s 8ms/step - loss: 0.0850 - acc: 0.9785 - val_loss: 0.2612 - val_acc: 0.8920\n",
      "Epoch 28/30\n",
      "100/100 [==============================] - 1s 8ms/step - loss: 0.0811 - acc: 0.9775 - val_loss: 0.2542 - val_acc: 0.8970\n",
      "Epoch 29/30\n",
      "100/100 [==============================] - 1s 8ms/step - loss: 0.0784 - acc: 0.9830 - val_loss: 0.2484 - val_acc: 0.8980\n",
      "Epoch 30/30\n",
      "100/100 [==============================] - 1s 8ms/step - loss: 0.0773 - acc: 0.9785 - val_loss: 0.2407 - val_acc: 0.9010\n"
     ]
    }
   ],
   "source": [
    "from keras import models\n",
    "from keras import layers\n",
    "from keras import optimizers\n",
    "\n",
    "model = models.Sequential()\n",
    "model.add(layers.Dense(256, activation='relu', input_dim=4 * 4* 512))\n",
    "model.add(layers.Dropout(0.5))\n",
    "model.add(layers.Dense(1, activation='sigmoid'))\n",
    "\n",
    "model.compile(optimizer=optimizers.RMSprop(lr=2e-5), loss='binary_crossentropy', metrics=['acc'])\n",
    "history = model.fit(train_features, train_labels, \n",
    "                    epochs=30, \n",
    "                    batch_size=20, \n",
    "                    validation_data=(validation_features, validation_labels))"
   ]
  },
  {
   "cell_type": "code",
   "execution_count": 10,
   "id": "993e9015",
   "metadata": {},
   "outputs": [
    {
     "data": {
      "image/png": "[encoded data removed]",
      "text/plain": [
       "<Figure size 640x480 with 1 Axes>"
      ]
     },
     "metadata": {},
     "output_type": "display_data"
    },
    {
     "data": {
      "image/png": "[encoded data removed]",
      "text/plain": [
       "<Figure size 640x480 with 1 Axes>"
      ]
     },
     "metadata": {},
     "output_type": "display_data"
    }
   ],
   "source": [
    "import matplotlib.pyplot as plt\n",
    "\n",
    "acc = history.history['acc']\n",
    "val_acc = history.history['val_acc']\n",
    "loss = history.history['loss']\n",
    "val_loss = history.history['val_loss']\n",
    "\n",
    "epochs = range(1, len(acc) + 1)\n",
    "\n",
    "plt.plot(epochs, acc, 'bo', label='Training acc')\n",
    "plt.plot(epochs, val_acc, 'b', label='Validation acc')\n",
    "plt.title('Training and validation accuracy')\n",
    "plt.legend()\n",
    "\n",
    "plt.figure()\n",
    "\n",
    "plt.plot(epochs, loss, 'bo', label='Training loss')\n",
    "plt.plot(epochs, val_loss, 'b', label='Validation loss')\n",
    "plt.title('Training and validation loss')\n",
    "plt.legend()\n",
    "\n",
    "plt.show()"
   ]
  },
  {
   "cell_type": "markdown",
   "id": "7aa75db4",
   "metadata": {},
   "source": [
    "## 데이터 증식을 사용한 특성 추출"
   ]
  },
  {
   "cell_type": "code",
   "execution_count": 11,
   "id": "35292f00",
   "metadata": {},
   "outputs": [],
   "source": [
    "from keras import models\n",
    "from keras import layers\n",
    "\n",
    "model = models.Sequential()\n",
    "model.add(conv_base)\n",
    "model.add(layers.Flatten())\n",
    "model.add(layers.Dense(256, activation='relu'))\n",
    "model.add(layers.Dense(1, activation='sigmoid'))"
   ]
  },
  {
   "cell_type": "code",
   "execution_count": 12,
   "id": "6e21897c",
   "metadata": {},
   "outputs": [
    {
     "name": "stdout",
     "output_type": "stream",
     "text": [
      "Model: \"sequential_1\"\n",
      "_________________________________________________________________\n",
      " Layer (type)                Output Shape              Param #   \n",
      "=================================================================\n",
      " vgg16 (Functional)          (None, 4, 4, 512)         14714688  \n",
      "                                                                 \n",
      " flatten (Flatten)           (None, 8192)              0         \n",
      "                                                                 \n",
      " dense_2 (Dense)             (None, 256)               2097408   \n",
      "                                                                 \n",
      " dense_3 (Dense)             (None, 1)                 257       \n",
      "                                                                 \n",
      "=================================================================\n",
      "Total params: 16,812,353\n",
      "Trainable params: 16,812,353\n",
      "Non-trainable params: 0\n",
      "_________________________________________________________________\n"
     ]
    }
   ],
   "source": [
    "model.summary()"
   ]
  },
  {
   "cell_type": "markdown",
   "id": "8c846318",
   "metadata": {},
   "source": [
    "**모델을 컴파일하고 훈련하기 전 합성곱 기반 층을 동결해야만 함**\n",
    "\n",
    "하나 이상의 층을 동결한다는 것은 훈련하는 동안 가중치가 업데이트되지 않도록 막는다는 뜻\n",
    "\n",
    "케라스에서는 trainable 속성을 False로 설정하여 네트워크 동결이 가능"
   ]
  },
  {
   "cell_type": "code",
   "execution_count": 13,
   "id": "1c1195a7",
   "metadata": {},
   "outputs": [
    {
     "name": "stdout",
     "output_type": "stream",
     "text": [
      "conv_base를 동결하기 전 훈련되는 가중치의 수:  30\n",
      "conv_base를 동결한 후 훈련되는 가중치의 수:  4\n"
     ]
    }
   ],
   "source": [
    "print('conv_base를 동결하기 전 훈련되는 가중치의 수: ', len(model.trainable_weights))\n",
    "conv_base.trainable = False\n",
    "print('conv_base를 동결한 후 훈련되는 가중치의 수: ', len(model.trainable_weights))"
   ]
  },
  {
   "cell_type": "markdown",
   "id": "96e1066b",
   "metadata": {},
   "source": [
    "추가한 2개의 Dense 층 가중치만 훈련됨. 층마다 2개씩(weight, biase) 총 4개의 텐서가 훈련됨\n",
    "\n",
    "변경 사항을 적용하려면 모델을 컴파일해야하는데 컴파일 단계 후 trainable 속성을 변경하면 반드시 모델을 다시 컴파일 해야만 함 그렇지 않으면 변경 사항이 적용되지 않음"
   ]
  },
  {
   "cell_type": "code",
   "execution_count": 14,
   "id": "95f3a81c",
   "metadata": {},
   "outputs": [
    {
     "name": "stdout",
     "output_type": "stream",
     "text": [
      "Found 2000 images belonging to 2 classes.\n",
      "Found 1000 images belonging to 2 classes.\n",
      "Epoch 1/30\n"
     ]
    },
    {
     "name": "stderr",
     "output_type": "stream",
     "text": [
      "/Users/hangyojeong/miniforge3/envs/m1_tf_keras/lib/python3.9/site-packages/keras/optimizers/optimizer_v2/rmsprop.py:143: UserWarning: The `lr` argument is deprecated, use `learning_rate` instead.\n",
      "  super().__init__(name, **kwargs)\n",
      "/var/folders/rz/96n_vjq17kg53f0rgc21grc40000gn/T/ipykernel_4374/2045135678.py:27: UserWarning: `Model.fit_generator` is deprecated and will be removed in a future version. Please use `Model.fit`, which supports generators.\n",
      "  history = model.fit_generator(train_generator,\n",
      "2022-12-21 13:20:58.096030: I tensorflow/core/grappler/optimizers/custom_graph_optimizer_registry.cc:114] Plugin optimizer for device_type GPU is enabled.\n",
      "2022-12-21 13:21:14.550462: I tensorflow/core/grappler/optimizers/custom_graph_optimizer_registry.cc:114] Plugin optimizer for device_type GPU is enabled.\n"
     ]
    },
    {
     "name": "stdout",
     "output_type": "stream",
     "text": [
      "100/100 - 24s - loss: 0.5427 - acc: 0.7390 - val_loss: 0.4919 - val_acc: 0.7460 - 24s/epoch - 244ms/step\n",
      "Epoch 2/30\n",
      "100/100 - 24s - loss: 0.4114 - acc: 0.8305 - val_loss: 0.3819 - val_acc: 0.8480 - 24s/epoch - 236ms/step\n",
      "Epoch 3/30\n",
      "100/100 - 24s - loss: 0.3561 - acc: 0.8535 - val_loss: 0.3426 - val_acc: 0.8500 - 24s/epoch - 235ms/step\n",
      "Epoch 4/30\n",
      "100/100 - 23s - loss: 0.3272 - acc: 0.8550 - val_loss: 0.3286 - val_acc: 0.8640 - 23s/epoch - 235ms/step\n",
      "Epoch 5/30\n",
      "100/100 - 23s - loss: 0.2984 - acc: 0.8795 - val_loss: 0.3216 - val_acc: 0.8580 - 23s/epoch - 235ms/step\n",
      "Epoch 6/30\n",
      "100/100 - 24s - loss: 0.2861 - acc: 0.8830 - val_loss: 0.2986 - val_acc: 0.8730 - 24s/epoch - 235ms/step\n",
      "Epoch 7/30\n",
      "100/100 - 24s - loss: 0.2802 - acc: 0.8845 - val_loss: 0.2927 - val_acc: 0.8660 - 24s/epoch - 236ms/step\n",
      "Epoch 8/30\n",
      "100/100 - 24s - loss: 0.2613 - acc: 0.8980 - val_loss: 0.2887 - val_acc: 0.8750 - 24s/epoch - 236ms/step\n",
      "Epoch 9/30\n",
      "100/100 - 24s - loss: 0.2603 - acc: 0.8995 - val_loss: 0.2947 - val_acc: 0.8790 - 24s/epoch - 236ms/step\n",
      "Epoch 10/30\n",
      "100/100 - 23s - loss: 0.2567 - acc: 0.8950 - val_loss: 0.2873 - val_acc: 0.8820 - 23s/epoch - 235ms/step\n",
      "Epoch 11/30\n",
      "100/100 - 23s - loss: 0.2497 - acc: 0.9000 - val_loss: 0.2890 - val_acc: 0.8780 - 23s/epoch - 234ms/step\n",
      "Epoch 12/30\n",
      "100/100 - 24s - loss: 0.2407 - acc: 0.8985 - val_loss: 0.2674 - val_acc: 0.8810 - 24s/epoch - 236ms/step\n",
      "Epoch 13/30\n",
      "100/100 - 24s - loss: 0.2351 - acc: 0.9115 - val_loss: 0.2874 - val_acc: 0.8840 - 24s/epoch - 236ms/step\n",
      "Epoch 14/30\n",
      "100/100 - 24s - loss: 0.2223 - acc: 0.9115 - val_loss: 0.2768 - val_acc: 0.8880 - 24s/epoch - 235ms/step\n",
      "Epoch 15/30\n",
      "100/100 - 24s - loss: 0.2349 - acc: 0.9025 - val_loss: 0.2634 - val_acc: 0.8930 - 24s/epoch - 236ms/step\n",
      "Epoch 16/30\n",
      "100/100 - 24s - loss: 0.2157 - acc: 0.9205 - val_loss: 0.2769 - val_acc: 0.8870 - 24s/epoch - 238ms/step\n",
      "Epoch 17/30\n",
      "100/100 - 24s - loss: 0.2167 - acc: 0.9215 - val_loss: 0.2721 - val_acc: 0.8870 - 24s/epoch - 237ms/step\n",
      "Epoch 18/30\n",
      "100/100 - 24s - loss: 0.2234 - acc: 0.9160 - val_loss: 0.2689 - val_acc: 0.8890 - 24s/epoch - 237ms/step\n",
      "Epoch 19/30\n",
      "100/100 - 23s - loss: 0.2183 - acc: 0.9100 - val_loss: 0.2670 - val_acc: 0.8770 - 23s/epoch - 235ms/step\n",
      "Epoch 20/30\n",
      "100/100 - 24s - loss: 0.2092 - acc: 0.9175 - val_loss: 0.2559 - val_acc: 0.8910 - 24s/epoch - 235ms/step\n",
      "Epoch 21/30\n",
      "100/100 - 24s - loss: 0.2060 - acc: 0.9160 - val_loss: 0.2726 - val_acc: 0.8920 - 24s/epoch - 235ms/step\n",
      "Epoch 22/30\n",
      "100/100 - 23s - loss: 0.2060 - acc: 0.9205 - val_loss: 0.2719 - val_acc: 0.8870 - 23s/epoch - 235ms/step\n",
      "Epoch 23/30\n",
      "100/100 - 24s - loss: 0.2038 - acc: 0.9165 - val_loss: 0.2732 - val_acc: 0.8760 - 24s/epoch - 235ms/step\n",
      "Epoch 24/30\n",
      "100/100 - 24s - loss: 0.2023 - acc: 0.9185 - val_loss: 0.2767 - val_acc: 0.8830 - 24s/epoch - 235ms/step\n",
      "Epoch 25/30\n",
      "100/100 - 24s - loss: 0.1912 - acc: 0.9255 - val_loss: 0.2597 - val_acc: 0.8890 - 24s/epoch - 236ms/step\n",
      "Epoch 26/30\n",
      "100/100 - 24s - loss: 0.1953 - acc: 0.9180 - val_loss: 0.2632 - val_acc: 0.8840 - 24s/epoch - 236ms/step\n",
      "Epoch 27/30\n",
      "100/100 - 24s - loss: 0.1989 - acc: 0.9230 - val_loss: 0.2743 - val_acc: 0.8860 - 24s/epoch - 235ms/step\n",
      "Epoch 28/30\n",
      "100/100 - 24s - loss: 0.1928 - acc: 0.9250 - val_loss: 0.2644 - val_acc: 0.8880 - 24s/epoch - 235ms/step\n",
      "Epoch 29/30\n",
      "100/100 - 23s - loss: 0.1933 - acc: 0.9255 - val_loss: 0.2753 - val_acc: 0.8910 - 23s/epoch - 235ms/step\n",
      "Epoch 30/30\n",
      "100/100 - 24s - loss: 0.1847 - acc: 0.9270 - val_loss: 0.2587 - val_acc: 0.8900 - 24s/epoch - 235ms/step\n"
     ]
    }
   ],
   "source": [
    "from keras.preprocessing.image import ImageDataGenerator\n",
    "from keras import optimizers\n",
    "\n",
    "train_datagen = ImageDataGenerator(rescale=1./255, \n",
    "                                   rotation_range=20, \n",
    "                                   width_shift_range = 0.1, \n",
    "                                   height_shift_range = 0.1, \n",
    "                                   shear_range = 0.1, \n",
    "                                   zoom_range = 0.1, \n",
    "                                   horizontal_flip = True, \n",
    "                                   fill_mode = 'nearest')\n",
    "\n",
    "# 검증 데이터는 증식되어선 안됨\n",
    "test_datagen = ImageDataGenerator(rescale=1./255)\n",
    "\n",
    "train_generator = train_datagen.flow_from_directory(train_dir, \n",
    "                                                    target_size=(150,150), \n",
    "                                                    batch_size=20, \n",
    "                                                    class_mode='binary')\n",
    "validation_generator = train_datagen.flow_from_directory(validation_dir, \n",
    "                                                    target_size=(150,150), \n",
    "                                                    batch_size=20, \n",
    "                                                    class_mode='binary')\n",
    "\n",
    "model.compile(loss='binary_crossentropy', optimizer=optimizers.RMSprop(lr=2e-5), metrics=['acc'])\n",
    "\n",
    "history = model.fit_generator(train_generator, \n",
    "                              steps_per_epoch=100, \n",
    "                              epochs=30, \n",
    "                              validation_data=validation_generator, \n",
    "                              validation_steps=50, \n",
    "                              verbose=2)"
   ]
  },
  {
   "cell_type": "code",
   "execution_count": 15,
   "id": "6ccabdf8",
   "metadata": {},
   "outputs": [
    {
     "data": {
      "image/png": "[encoded data removed]",
      "text/plain": [
       "<Figure size 640x480 with 1 Axes>"
      ]
     },
     "metadata": {},
     "output_type": "display_data"
    },
    {
     "data": {
      "image/png": "[encoded data removed]",
      "text/plain": [
       "<Figure size 640x480 with 1 Axes>"
      ]
     },
     "metadata": {},
     "output_type": "display_data"
    }
   ],
   "source": [
    "import matplotlib.pyplot as plt\n",
    "\n",
    "acc = history.history['acc']\n",
    "val_acc = history.history['val_acc']\n",
    "loss = history.history['loss']\n",
    "val_loss = history.history['val_loss']\n",
    "\n",
    "epochs = range(1, len(acc) + 1)\n",
    "\n",
    "plt.plot(epochs, acc, 'bo', label='Training acc')\n",
    "plt.plot(epochs, val_acc, 'b', label='Validation acc')\n",
    "plt.title('Training and validation accuracy')\n",
    "plt.legend()\n",
    "\n",
    "plt.figure()\n",
    "\n",
    "plt.plot(epochs, loss, 'bo', label='Training loss')\n",
    "plt.plot(epochs, val_loss, 'b', label='Validation loss')\n",
    "plt.title('Training and validation loss')\n",
    "plt.legend()\n",
    "\n",
    "plt.show()"
   ]
  },
  {
   "cell_type": "code",
   "execution_count": null,
   "id": "84960767",
   "metadata": {},
   "outputs": [],
   "source": []
  }
 ],
 "metadata": {
  "kernelspec": {
   "display_name": "Python 3 (ipykernel)",
   "language": "python",
   "name": "python3"
  },
  "language_info": {
   "codemirror_mode": {
    "name": "ipython",
    "version": 3
   },
   "file_extension": ".py",
   "mimetype": "text/x-python",
   "name": "python",
   "nbconvert_exporter": "python",
   "pygments_lexer": "ipython3",
   "version": "3.9.15"
  }
 },
 "nbformat": 4,
 "nbformat_minor": 5
}
