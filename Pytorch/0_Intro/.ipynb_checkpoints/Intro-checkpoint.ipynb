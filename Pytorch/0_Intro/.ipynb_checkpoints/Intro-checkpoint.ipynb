{
 "cells": [
  {
   "cell_type": "code",
   "execution_count": 1,
   "id": "d7c30728",
   "metadata": {},
   "outputs": [],
   "source": [
    "import torch\n",
    "\n",
    "if torch.cuda.is_available():\n",
    "    DEVICE = torch.device('cuda')\n",
    "else:\n",
    "    DEVICE = torch.device('cpu')"
   ]
  },
  {
   "cell_type": "markdown",
   "id": "e8a32175",
   "metadata": {},
   "source": [
    "**BATCH_SIZE** \n",
    "딥러닝 모델에서 파라미터를 업데이트할 때 계산되는 데이터의 갯수, BATCH_SIZE만큼 데이터를 이용해 Output을 계산하고 BATCH_SIZE만큼 출력된 결괏값에 대한 오찻값을 계산, BATCH_SIZE만큼 계산된 오차값을 평균해 Back Propagation을 적용하고 이를 바탕으로 파라미터를 업데이트\n",
    "\n",
    "**INPUT_SIZE** \n",
    "Input의 크기이자 입력층의 노드 수. 즉, INPUT_SIZE 크기의 벡터 값을 의미.\n",
    "BATCH_SIZE가 64이고 INPUT_SIZE가 1000이란 말은 1000 크기의 벡터 값을 64개 이용한다는 의미 (64, 1000)\n",
    "\n",
    "**HIDDEN_SIZE** \n",
    "Input을 다수의 파라미터를 이용해 계산한 결과에 한 번 더 계산되는 파라미터 수. 즉, 입력층에서 은닉층으로 전달됐을 때 은닉층의 노드 수.\n",
    "아래 사이즈로 이야기하면 (64, 1000)의 Input들이 (1000, 100) 크기의 행렬과 행렬 곱을 계산하기 위해 설정한 수\n",
    "\n",
    "**OUTPUT_SIZE** \n",
    "딥러닝 모델에서 최종으로 출력되는 값의 벡터 크기 \n",
    "보통 Output의 크기는 최종으로 비교하고자 하는 레이블의 크기와 동일하게 설정 "
   ]
  },
  {
   "cell_type": "code",
   "execution_count": 2,
   "id": "c671e25a",
   "metadata": {},
   "outputs": [],
   "source": [
    "BATCH_SIZE = 64 \n",
    "INPUT_SIZE = 1000 \n",
    "HIDDEN_SIZE = 100 \n",
    "OUTPUT_SIZE = 10"
   ]
  },
  {
   "cell_type": "code",
   "execution_count": null,
   "id": "945257ee",
   "metadata": {},
   "outputs": [],
   "source": []
  }
 ],
 "metadata": {
  "kernelspec": {
   "display_name": "Python 3 (ipykernel)",
   "language": "python",
   "name": "python3"
  },
  "language_info": {
   "codemirror_mode": {
    "name": "ipython",
    "version": 3
   },
   "file_extension": ".py",
   "mimetype": "text/x-python",
   "name": "python",
   "nbconvert_exporter": "python",
   "pygments_lexer": "ipython3",
   "version": "3.10.8"
  }
 },
 "nbformat": 4,
 "nbformat_minor": 5
}
