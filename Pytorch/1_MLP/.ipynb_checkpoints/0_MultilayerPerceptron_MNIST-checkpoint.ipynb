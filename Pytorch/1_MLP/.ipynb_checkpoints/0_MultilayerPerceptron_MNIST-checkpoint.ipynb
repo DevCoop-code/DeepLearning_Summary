{
 "cells": [
  {
   "cell_type": "markdown",
   "id": "5104ee2d",
   "metadata": {},
   "source": [
    "0~9 까지 사람이 그린 손글씨 데이터인 MNIST를 활용해 10개의 클래스로 분류\n",
    "\n",
    "MLP 모델 설계 순서\n",
    "1. 모듈 임포트하기\n",
    "2. 딥러닝 모델을 설계할 때 활용하는 장비 확인\n",
    "3. MNIST 데이터 다운로드\n",
    "4. 데이터 확인\n",
    "5. 데이터 확인\n",
    "6. MLP(Multi Layer Perceptron) 모델 설계\n",
    "7. Optimizer, Objective Function 설정\n",
    "8. MLP 모델 학습을 진행하면서 학습 데이터에 대한 모델 성능을 확인하는 함수 정의\n",
    "9. 학습되는 과정 속에서 검증 데이터에 대한 모델의 성능을 확인하는 함수 정의\n",
    "10. MLP 학습을 실행하면서 train, test set의 Loss 및 Test set Accuracy 확인"
   ]
  },
  {
   "cell_type": "code",
   "execution_count": 1,
   "id": "14f162f6",
   "metadata": {},
   "outputs": [],
   "source": [
    "# 1. Module Import\n",
    "import numpy as np\n",
    "import matplotlib.pyplot as plt\n",
    "import torch\n",
    "import torch.nn as nn\n",
    "import torch.nn.functional as F\n",
    "from torchvision import transforms, datasets"
   ]
  },
  {
   "cell_type": "code",
   "execution_count": 2,
   "id": "bed39f64",
   "metadata": {},
   "outputs": [
    {
     "name": "stdout",
     "output_type": "stream",
     "text": [
      "Using PyTorch version: 1.13.0  Device: cpu\n"
     ]
    }
   ],
   "source": [
    "# 2. Deep Learning 모델을 설계할 때 활용하는 장비 확인\n",
    "if torch.cuda.is_available():\n",
    "    DEVICE = torch.device('cuda')\n",
    "else:\n",
    "    DEVICE = torch.device('cpu')\n",
    "    \n",
    "print('Using PyTorch version:', torch.__version__, ' Device:', DEVICE)"
   ]
  },
  {
   "cell_type": "code",
   "execution_count": 3,
   "id": "c45e096a",
   "metadata": {},
   "outputs": [],
   "source": [
    "BATCH_SIZE = 32\n",
    "EPOCHS = 10"
   ]
  },
  {
   "cell_type": "code",
   "execution_count": 4,
   "id": "e90cd602",
   "metadata": {},
   "outputs": [
    {
     "name": "stdout",
     "output_type": "stream",
     "text": [
      "Downloading http://yann.lecun.com/exdb/mnist/train-images-idx3-ubyte.gz\n",
      "Downloading http://yann.lecun.com/exdb/mnist/train-images-idx3-ubyte.gz to ../data/MNIST/MNIST/raw/train-images-idx3-ubyte.gz\n"
     ]
    },
    {
     "name": "stderr",
     "output_type": "stream",
     "text": [
      "100.0%\n"
     ]
    },
    {
     "name": "stdout",
     "output_type": "stream",
     "text": [
      "Extracting ../data/MNIST/MNIST/raw/train-images-idx3-ubyte.gz to ../data/MNIST/MNIST/raw\n",
      "\n",
      "Downloading http://yann.lecun.com/exdb/mnist/train-labels-idx1-ubyte.gz\n"
     ]
    },
    {
     "name": "stderr",
     "output_type": "stream",
     "text": [
      "\r",
      "100.0%"
     ]
    },
    {
     "name": "stdout",
     "output_type": "stream",
     "text": [
      "Downloading http://yann.lecun.com/exdb/mnist/train-labels-idx1-ubyte.gz to ../data/MNIST/MNIST/raw/train-labels-idx1-ubyte.gz\n",
      "Extracting ../data/MNIST/MNIST/raw/train-labels-idx1-ubyte.gz to ../data/MNIST/MNIST/raw\n",
      "\n",
      "Downloading http://yann.lecun.com/exdb/mnist/t10k-images-idx3-ubyte.gz\n"
     ]
    },
    {
     "name": "stderr",
     "output_type": "stream",
     "text": [
      "\n",
      "7.9%"
     ]
    },
    {
     "name": "stdout",
     "output_type": "stream",
     "text": [
      "Downloading http://yann.lecun.com/exdb/mnist/t10k-images-idx3-ubyte.gz to ../data/MNIST/MNIST/raw/t10k-images-idx3-ubyte.gz\n"
     ]
    },
    {
     "name": "stderr",
     "output_type": "stream",
     "text": [
      "100.0%\n"
     ]
    },
    {
     "name": "stdout",
     "output_type": "stream",
     "text": [
      "Extracting ../data/MNIST/MNIST/raw/t10k-images-idx3-ubyte.gz to ../data/MNIST/MNIST/raw\n",
      "\n",
      "Downloading http://yann.lecun.com/exdb/mnist/t10k-labels-idx1-ubyte.gz\n"
     ]
    },
    {
     "name": "stderr",
     "output_type": "stream",
     "text": [
      "\r",
      "100.0%"
     ]
    },
    {
     "name": "stdout",
     "output_type": "stream",
     "text": [
      "Downloading http://yann.lecun.com/exdb/mnist/t10k-labels-idx1-ubyte.gz to ../data/MNIST/MNIST/raw/t10k-labels-idx1-ubyte.gz\n",
      "Extracting ../data/MNIST/MNIST/raw/t10k-labels-idx1-ubyte.gz to ../data/MNIST/MNIST/raw\n",
      "\n"
     ]
    },
    {
     "name": "stderr",
     "output_type": "stream",
     "text": [
      "\n"
     ]
    }
   ],
   "source": [
    "# MNIST 데이터 다운로드\n",
    "train_dataset = datasets.MNIST(root = \"../data/MNIST\", train = True, download = True, transform = transforms.ToTensor())  # - 1\n",
    "test_dataset = datasets.MNIST(root = \"../data/MNIST\", train = False, transform = transforms.ToTensor())\n",
    "\n",
    "train_loader = torch.utils.data.DataLoader(dataset = train_dataset, batch_size = BATCH_SIZE, shuffle = True)  # - 2\n",
    "test_loader = torch.utils.data.DataLoader(dataset = test_dataset, batch_size = BATCH_SIZE, shuffle = False)"
   ]
  },
  {
   "cell_type": "markdown",
   "id": "8bcda8c6",
   "metadata": {},
   "source": [
    "흔히 데이터를 외부에서 파이썬으로 불러와 이용\n",
    "엑셀 파일로 데이터를 주고받을땐 Pandas Module을 이용해 pd.read_csv(), pd.read_excel() 함수를 이용\n",
    "\n",
    "(1)\n",
    "- root: 데이터가 저장될 장소\n",
    "- train: 대상 데이터가 모델을 학습하기 위해 이용하는 학습용 데이터인지, 학습된 이후 성능을 검증하기 위한 검증용 데이터인지를 지정\n",
    "- download: 해당 데이터를 인터넷상에서 다운로드해 이용할 것인지를 지정\n",
    "- transform: 데이터를 다운로드할때 이미지 데이터에 대한 기본적인 전처리를 동시에 진행\n",
    "torch 모듈로 설계한 MLP의 Input으로 이용되기 때문에 ToTensor() 메서드를 이용해 tensor 형태로 변경\n",
    "\n",
    "(2)\n",
    "다운로드한 데이터셋을 Mini-Batch 단위로 분리해 지정\n",
    "Mini-Batch 단위를 이용해 MLP모델을 학습시킬 것이므로 Mini-Batch 별로 데이터를 묶어 단위를 맞춤\n",
    "- dataset: Mini-Batch 단위로 할당하고자 하는 데이터셋을 지정\n",
    "- shuffle: 데이터의 순서를 섞고자 할 때 이용. MLP 모델이 학습을 진행할 때 Label 정보의 순서를 암기해 학습을 진행할 수 있음\n",
    "그러므로 잘못된 방향으로 학습하는 것을 방지하기 위해 데이터 순서를 섞음"
   ]
  },
  {
   "cell_type": "code",
   "execution_count": 5,
   "id": "6229c3c9",
   "metadata": {},
   "outputs": [
    {
     "name": "stdout",
     "output_type": "stream",
     "text": [
      "X_train: torch.Size([32, 1, 28, 28]) type: torch.FloatTensor\n",
      "y_train: torch.Size([32, 1, 28, 28]) type: torch.FloatTensor\n"
     ]
    }
   ],
   "source": [
    "# 데이터 확인\n",
    "# Download한 후 Mini-batch 단위로 할당한 데이터의 개수와 형태를 확인\n",
    "for(X_train, y_train) in train_loader:\n",
    "    print('X_train:', X_train.size(), 'type:', X_train.type())\n",
    "    print('y_train:', X_train.size(), 'type:', X_train.type())\n",
    "    break"
   ]
  },
  {
   "cell_type": "code",
   "execution_count": 8,
   "id": "0f0b8028",
   "metadata": {},
   "outputs": [
    {
     "data": {
      "image/png": "[encoded data removed]",
      "text/plain": [
       "<Figure size 1000x100 with 10 Axes>"
      ]
     },
     "metadata": {},
     "output_type": "display_data"
    }
   ],
   "source": [
    "# 데이터 확인\n",
    "pltsize = 1\n",
    "plt.figure(figsize=(10 * pltsize, pltsize))\n",
    "for i in range(10):\n",
    "    plt.subplot(1, 10, i + 1)\n",
    "    plt.axis('off')\n",
    "    plt.imshow(X_train[i, :, :, :].numpy().reshape(28, 28), cmap=\"gray_r\")\n",
    "    plt.title('Class: ' + str(y_train[i].item()))"
   ]
  },
  {
   "cell_type": "code",
   "execution_count": 9,
   "id": "9c3a7d38",
   "metadata": {},
   "outputs": [],
   "source": [
    "# MLP(Multi Layer Perceptron) 모델 설계\n",
    "class Net(nn.Module):\n",
    "    def __init__(self):\n",
    "        super(Net, self).__init__()\n",
    "        self.fc1 = nn.Linear(28 * 28, 512)  # - (1)\n",
    "        self.fc2 = nn.Linear(512, 256)\n",
    "        self.fc3 = nn.Linear(256, 10)\n",
    "\n",
    "    def forward(self, x):\n",
    "        x = x.view(-1, 28 * 28)  # - (2)\n",
    "        x = self.fc1(x)\n",
    "        x = F.sigmoid(x)\n",
    "        x = self.fc2(x)\n",
    "        x = F.sigmoid(x)\n",
    "        x = self.fc3(x)\n",
    "        x = F.log_softmax(x, dim = 1)\n",
    "        return x"
   ]
  },
  {
   "cell_type": "markdown",
   "id": "555d4aad",
   "metadata": {},
   "source": [
    "(1): Fully Connected Layer를 정의, MNIST 데이터를 Input으로 사용하기 위해 28 * 28 * 1(가로 픽셀수 * 새로 픽셀수 * 채널수) 크기의 노드 수를 설정한 후\n",
    "두번째 Fully Connected Layer의 노드 수를 512개로 설정할 것이기에 output의 노드 수는 512개로 설정\n",
    "\n",
    "(2): MLP 모델은 1차원의 벡터 값을 입력으로 받을 수 있음 \n",
    "But, MNIST 이미지 데이터의 크기는 28 * 28인 2차원 데이터 따라서 2차원 데이터를 1차원 데이터로 변환하기 위해 View 메서드를 이용해 784 크기의 1차원 데이터로 변환해 진행 \n",
    "이를 2차원의 데이터를 1차원으로 펼친다 하여 Flatten한다 라고 표현하기도 함"
   ]
  },
  {
   "cell_type": "code",
   "execution_count": 10,
   "id": "22e6d2bc",
   "metadata": {},
   "outputs": [
    {
     "name": "stdout",
     "output_type": "stream",
     "text": [
      "Net(\n",
      "  (fc1): Linear(in_features=784, out_features=512, bias=True)\n",
      "  (fc2): Linear(in_features=512, out_features=256, bias=True)\n",
      "  (fc3): Linear(in_features=256, out_features=10, bias=True)\n",
      ")\n"
     ]
    }
   ],
   "source": [
    "# Optimizer, Objective Function 설정\n",
    "model = Net().to(DEVICE)  # - (1)\n",
    "optimizer = torch.optim.SGD(model.parameters(), lr = 0.01, momentum = 0.5)  # - (2)\n",
    "criterion = nn.CrossEntropyLoss()  # - (3)\n",
    "\n",
    "print(model)"
   ]
  },
  {
   "cell_type": "markdown",
   "id": "754fc1d2",
   "metadata": {},
   "source": [
    "(1): MLP 모델을 기존에 선정한 'DEVICE'에 할당\n",
    "(2): Back Propagation을 이용해 파라미터를 업데이트할 때 이용하는 Optimizer를 정의\n",
    "이 예제에서는 Stochastic Gradient Descent(SGD) 알고리즘을 이용하여 파라미터를 업데이트할 때 learning rate을 0.01, Optimizer의 관성을 나타내는 momentum을 0.5로 설정\n",
    "(3): MLP 모델의 output값과 계산될 Label 값은 Class를 표현하는 one-hot 인코딩 값\n",
    "MLP 모델의 output 값과 one-hot encoding 값과의 Loss는 CrossEntropy를 이용해 계산"
   ]
  },
  {
   "cell_type": "code",
   "execution_count": 11,
   "id": "12e97474",
   "metadata": {},
   "outputs": [],
   "source": [
    "# MLP 모델 학습을 진행하며 학습 데이터에 대한 모델 성능을 확인하는 함수 정의\n",
    "def train(model, train_loader, optimizer, log_interval):\n",
    "    model.train()\n",
    "    for batch_idx, (image, label) in enumerate(train_loader):  # - (1)\n",
    "        image = image.to(DEVICE)\n",
    "        label = label.to(DEVICE)\n",
    "        optimizer.zero_grad()  # - (2)\n",
    "        output = model(image)  # - (3)\n",
    "        loss = criterion(output, label)  # - (4)\n",
    "        loss.backward()  # - (5)\n",
    "        optimizer.step()  # - (6)\n",
    "\n",
    "        if batch_idx % log_interval == 0:\n",
    "            print(\"Train Epoch: {} [{}/{}({:.0f}%)] \\t Train Loss: {:.6f}\".format(Epoch, batch_idx * len(image), len(train_loader.dataset), 100 * batch_idx / len(train_loader), loss.item()))"
   ]
  },
  {
   "cell_type": "markdown",
   "id": "38f4580a",
   "metadata": {},
   "source": [
    "(1): 기존에 정의한 train_loader에는 학습에 이용되는 이미지 데이터와 레이블 데이터가 Mini-Batch 단위로 묶여 저장\n",
    "해당 train_loader 내에 Mini-Batch 단위로 저장된 데이터를 순서대로 이용해 학습\n",
    "(2): 과거에 이용한 Mini-Batch 내에 있는 이미지 데이터와 레이블 데이터를 바탕으로 계산된 Loss의 Gradient 값이 optimizer에 할당돼 있으므로 optimizer의 Gradient를 초기화\n",
    "(3): 장비에 할당한 이미지 데이터를 MLP 모델의 Input으로 이용해 Output을 계산\n",
    "(4): 계산된 Output과 장비에 할당된 레이블 데이터를 기존에 정의한 CrossEntropy를 이용해 Loss 값을 계산\n",
    "(5): Loss 값을 계산한 결과를 바탕으로 Back Propagation을 통해 계산된 Gradient 값을 각 파라미터에 할당\n",
    "(6): 각 파라미터에 할당된 Gradient 값을 이용해 파라미터 값을 업데이트"
   ]
  },
  {
   "cell_type": "code",
   "execution_count": 12,
   "id": "01e5222b",
   "metadata": {},
   "outputs": [],
   "source": [
    "# 학습되는 과정 속에서 검증 데이터에 대한 모델 성능을 확인하는 함수\n",
    "def evaluate(model, test_loader):\n",
    "    model.eval()  # - (1)\n",
    "    test_loss = 0  # - (2)\n",
    "    correct = 0  # - (3)\n",
    "\n",
    "    with torch.no_grad():  # - (4)\n",
    "        for image, label in test_loader:\n",
    "            image = image.to(DEVICE)\n",
    "            label = label.to(DEVICE)\n",
    "            output = model(image)\n",
    "            test_loss += criterion(output, label).item()  # - (5)\n",
    "            prediction = output.max(1, keepdim = True)[1]  # - (6)\n",
    "            correct += prediction.eq(label.view_as(prediction)).sum().item()  # - (7)\n",
    "    \n",
    "    test_loss /= len(test_loader.dataset)  # - (8)\n",
    "    test_accuracy = 100 * correct / len(test_loader.dataset)  # - (9)\n",
    "    return test_loss, test_accuracy"
   ]
  },
  {
   "cell_type": "markdown",
   "id": "30a21094",
   "metadata": {},
   "source": [
    "(1): 학습 과정 또는 학습이 완료된 MLP 모델을 학습 상태가 아닌 평가 상태로 지정\n",
    "(2): 기존에 정의한 test_loader 내의 데이터를 이용해 Loss값을 계산하기 위해 test_loss를 0으로 임시 설정\n",
    "(3): 학습 과정 또는 학습이 완료된 MLP 모델이 올바른 Class로 분류한 경우를 세기 위해 correct = 0으로 임시 설정\n",
    "(4): MLP 모델을 평가하는 단계에서 Gradient를 통해 파라미터 값이 업데이트되는 현상을 방지하기 위해 torch.no_grad() 메서드를 이용해 Gradient의 흐름을 억제\n",
    "(5): 계산된 Output과 장비에 할당된 레이블 데이터를 기존에 정의한 CrossEntropy를 이용해 Loss 값을 계산한 결괏값을 test_loss에 더해 업데이트\n",
    "(6): MLP 모델의 Output 값은 크기가 10인 벡터 값인데 이 벡터값들 중 가장 큰값인 위치에 대해 해당 위치에 대응하는 클래스로 예측한걸로 판단\n",
    "(7): MLP 모델이 최종으로 예측한 클래스 값과 실제 레이블이 의미하는 클래스가 맞으면 correct에 더해 올바르게 예측한 횟수를 저장\n",
    "(8): 현재까지 계산된 test_loss의 값을 test_loader 내에 존재하는 Mini-Batch 개수만큼 나눠 평균 Loss 값으로 계산\n",
    "(9): test_loader 데이터 중 얼마나 맞췄는지를 계산해 정확도를 계산"
   ]
  },
  {
   "cell_type": "code",
   "execution_count": 13,
   "id": "8412879a",
   "metadata": {},
   "outputs": [
    {
     "name": "stderr",
     "output_type": "stream",
     "text": [
      "/Users/hangyojeong/opt/anaconda3/envs/pytorch_test/lib/python3.10/site-packages/torch/nn/functional.py:1967: UserWarning: nn.functional.sigmoid is deprecated. Use torch.sigmoid instead.\n",
      "  warnings.warn(\"nn.functional.sigmoid is deprecated. Use torch.sigmoid instead.\")\n"
     ]
    },
    {
     "name": "stdout",
     "output_type": "stream",
     "text": [
      "Train Epoch: 1 [0/60000(0%)] \t Train Loss: 2.299074\n",
      "Train Epoch: 1 [6400/60000(11%)] \t Train Loss: 2.319171\n",
      "Train Epoch: 1 [12800/60000(21%)] \t Train Loss: 2.350789\n",
      "Train Epoch: 1 [19200/60000(32%)] \t Train Loss: 2.307976\n",
      "Train Epoch: 1 [25600/60000(43%)] \t Train Loss: 2.280740\n",
      "Train Epoch: 1 [32000/60000(53%)] \t Train Loss: 2.278879\n",
      "Train Epoch: 1 [38400/60000(64%)] \t Train Loss: 2.312545\n",
      "Train Epoch: 1 [44800/60000(75%)] \t Train Loss: 2.299366\n",
      "Train Epoch: 1 [51200/60000(85%)] \t Train Loss: 2.242129\n",
      "Train Epoch: 1 [57600/60000(96%)] \t Train Loss: 2.182324\n",
      "\n",
      " [EPOCH: 1], \t Test Loss: 0.0695, \t Test Accuracy: 19.36 %\n",
      "\n",
      "Train Epoch: 2 [0/60000(0%)] \t Train Loss: 2.209558\n",
      "Train Epoch: 2 [6400/60000(11%)] \t Train Loss: 2.214949\n",
      "Train Epoch: 2 [12800/60000(21%)] \t Train Loss: 2.139037\n",
      "Train Epoch: 2 [19200/60000(32%)] \t Train Loss: 1.982741\n",
      "Train Epoch: 2 [25600/60000(43%)] \t Train Loss: 2.001964\n",
      "Train Epoch: 2 [32000/60000(53%)] \t Train Loss: 1.817459\n",
      "Train Epoch: 2 [38400/60000(64%)] \t Train Loss: 1.491097\n",
      "Train Epoch: 2 [44800/60000(75%)] \t Train Loss: 1.451719\n",
      "Train Epoch: 2 [51200/60000(85%)] \t Train Loss: 1.432574\n",
      "Train Epoch: 2 [57600/60000(96%)] \t Train Loss: 1.242323\n",
      "\n",
      " [EPOCH: 2], \t Test Loss: 0.0376, \t Test Accuracy: 62.96 %\n",
      "\n",
      "Train Epoch: 3 [0/60000(0%)] \t Train Loss: 1.483547\n",
      "Train Epoch: 3 [6400/60000(11%)] \t Train Loss: 1.342550\n",
      "Train Epoch: 3 [12800/60000(21%)] \t Train Loss: 0.897312\n",
      "Train Epoch: 3 [19200/60000(32%)] \t Train Loss: 1.026315\n",
      "Train Epoch: 3 [25600/60000(43%)] \t Train Loss: 0.964838\n",
      "Train Epoch: 3 [32000/60000(53%)] \t Train Loss: 0.998782\n",
      "Train Epoch: 3 [38400/60000(64%)] \t Train Loss: 0.643243\n",
      "Train Epoch: 3 [44800/60000(75%)] \t Train Loss: 0.644218\n",
      "Train Epoch: 3 [51200/60000(85%)] \t Train Loss: 0.725202\n",
      "Train Epoch: 3 [57600/60000(96%)] \t Train Loss: 0.751816\n",
      "\n",
      " [EPOCH: 3], \t Test Loss: 0.0231, \t Test Accuracy: 77.86 %\n",
      "\n",
      "Train Epoch: 4 [0/60000(0%)] \t Train Loss: 0.610321\n",
      "Train Epoch: 4 [6400/60000(11%)] \t Train Loss: 0.730141\n",
      "Train Epoch: 4 [12800/60000(21%)] \t Train Loss: 0.503307\n",
      "Train Epoch: 4 [19200/60000(32%)] \t Train Loss: 0.831242\n",
      "Train Epoch: 4 [25600/60000(43%)] \t Train Loss: 0.810065\n",
      "Train Epoch: 4 [32000/60000(53%)] \t Train Loss: 0.899172\n",
      "Train Epoch: 4 [38400/60000(64%)] \t Train Loss: 0.786256\n",
      "Train Epoch: 4 [44800/60000(75%)] \t Train Loss: 0.527302\n",
      "Train Epoch: 4 [51200/60000(85%)] \t Train Loss: 0.615758\n",
      "Train Epoch: 4 [57600/60000(96%)] \t Train Loss: 0.863551\n",
      "\n",
      " [EPOCH: 4], \t Test Loss: 0.0174, \t Test Accuracy: 83.81 %\n",
      "\n",
      "Train Epoch: 5 [0/60000(0%)] \t Train Loss: 0.375745\n",
      "Train Epoch: 5 [6400/60000(11%)] \t Train Loss: 0.630781\n",
      "Train Epoch: 5 [12800/60000(21%)] \t Train Loss: 0.507550\n",
      "Train Epoch: 5 [19200/60000(32%)] \t Train Loss: 0.488194\n",
      "Train Epoch: 5 [25600/60000(43%)] \t Train Loss: 0.405835\n",
      "Train Epoch: 5 [32000/60000(53%)] \t Train Loss: 0.612884\n",
      "Train Epoch: 5 [38400/60000(64%)] \t Train Loss: 0.399225\n",
      "Train Epoch: 5 [44800/60000(75%)] \t Train Loss: 0.488904\n",
      "Train Epoch: 5 [51200/60000(85%)] \t Train Loss: 0.377751\n",
      "Train Epoch: 5 [57600/60000(96%)] \t Train Loss: 0.698070\n",
      "\n",
      " [EPOCH: 5], \t Test Loss: 0.0143, \t Test Accuracy: 86.53 %\n",
      "\n",
      "Train Epoch: 6 [0/60000(0%)] \t Train Loss: 0.424209\n",
      "Train Epoch: 6 [6400/60000(11%)] \t Train Loss: 0.175345\n",
      "Train Epoch: 6 [12800/60000(21%)] \t Train Loss: 0.407169\n",
      "Train Epoch: 6 [19200/60000(32%)] \t Train Loss: 0.403862\n",
      "Train Epoch: 6 [25600/60000(43%)] \t Train Loss: 0.554809\n",
      "Train Epoch: 6 [32000/60000(53%)] \t Train Loss: 0.488446\n",
      "Train Epoch: 6 [38400/60000(64%)] \t Train Loss: 0.214349\n",
      "Train Epoch: 6 [44800/60000(75%)] \t Train Loss: 0.240106\n",
      "Train Epoch: 6 [51200/60000(85%)] \t Train Loss: 0.541064\n",
      "Train Epoch: 6 [57600/60000(96%)] \t Train Loss: 0.581226\n",
      "\n",
      " [EPOCH: 6], \t Test Loss: 0.0128, \t Test Accuracy: 87.94 %\n",
      "\n",
      "Train Epoch: 7 [0/60000(0%)] \t Train Loss: 0.324364\n",
      "Train Epoch: 7 [6400/60000(11%)] \t Train Loss: 0.532739\n",
      "Train Epoch: 7 [12800/60000(21%)] \t Train Loss: 0.299012\n",
      "Train Epoch: 7 [19200/60000(32%)] \t Train Loss: 0.401542\n",
      "Train Epoch: 7 [25600/60000(43%)] \t Train Loss: 0.485743\n",
      "Train Epoch: 7 [32000/60000(53%)] \t Train Loss: 0.343374\n",
      "Train Epoch: 7 [38400/60000(64%)] \t Train Loss: 0.441862\n",
      "Train Epoch: 7 [44800/60000(75%)] \t Train Loss: 0.322430\n",
      "Train Epoch: 7 [51200/60000(85%)] \t Train Loss: 0.293029\n",
      "Train Epoch: 7 [57600/60000(96%)] \t Train Loss: 0.447841\n",
      "\n",
      " [EPOCH: 7], \t Test Loss: 0.0121, \t Test Accuracy: 88.67 %\n",
      "\n",
      "Train Epoch: 8 [0/60000(0%)] \t Train Loss: 0.448271\n",
      "Train Epoch: 8 [6400/60000(11%)] \t Train Loss: 0.632985\n",
      "Train Epoch: 8 [12800/60000(21%)] \t Train Loss: 0.309995\n",
      "Train Epoch: 8 [19200/60000(32%)] \t Train Loss: 0.346823\n",
      "Train Epoch: 8 [25600/60000(43%)] \t Train Loss: 0.536211\n",
      "Train Epoch: 8 [32000/60000(53%)] \t Train Loss: 0.289194\n",
      "Train Epoch: 8 [38400/60000(64%)] \t Train Loss: 0.694495\n",
      "Train Epoch: 8 [44800/60000(75%)] \t Train Loss: 0.354556\n",
      "Train Epoch: 8 [51200/60000(85%)] \t Train Loss: 0.584409\n",
      "Train Epoch: 8 [57600/60000(96%)] \t Train Loss: 0.346228\n",
      "\n",
      " [EPOCH: 8], \t Test Loss: 0.0112, \t Test Accuracy: 89.77 %\n",
      "\n",
      "Train Epoch: 9 [0/60000(0%)] \t Train Loss: 0.553250\n",
      "Train Epoch: 9 [6400/60000(11%)] \t Train Loss: 0.296707\n",
      "Train Epoch: 9 [12800/60000(21%)] \t Train Loss: 0.321286\n",
      "Train Epoch: 9 [19200/60000(32%)] \t Train Loss: 0.309745\n",
      "Train Epoch: 9 [25600/60000(43%)] \t Train Loss: 0.271385\n",
      "Train Epoch: 9 [32000/60000(53%)] \t Train Loss: 0.234121\n",
      "Train Epoch: 9 [38400/60000(64%)] \t Train Loss: 0.232275\n",
      "Train Epoch: 9 [44800/60000(75%)] \t Train Loss: 0.413560\n",
      "Train Epoch: 9 [51200/60000(85%)] \t Train Loss: 0.310088\n",
      "Train Epoch: 9 [57600/60000(96%)] \t Train Loss: 0.649841\n",
      "\n",
      " [EPOCH: 9], \t Test Loss: 0.0108, \t Test Accuracy: 89.98 %\n",
      "\n",
      "Train Epoch: 10 [0/60000(0%)] \t Train Loss: 0.329983\n",
      "Train Epoch: 10 [6400/60000(11%)] \t Train Loss: 0.191392\n",
      "Train Epoch: 10 [12800/60000(21%)] \t Train Loss: 0.363412\n",
      "Train Epoch: 10 [19200/60000(32%)] \t Train Loss: 0.538346\n",
      "Train Epoch: 10 [25600/60000(43%)] \t Train Loss: 0.326319\n",
      "Train Epoch: 10 [32000/60000(53%)] \t Train Loss: 0.324946\n",
      "Train Epoch: 10 [38400/60000(64%)] \t Train Loss: 0.405204\n",
      "Train Epoch: 10 [44800/60000(75%)] \t Train Loss: 0.343654\n",
      "Train Epoch: 10 [51200/60000(85%)] \t Train Loss: 0.254039\n",
      "Train Epoch: 10 [57600/60000(96%)] \t Train Loss: 0.183089\n",
      "\n",
      " [EPOCH: 10], \t Test Loss: 0.0104, \t Test Accuracy: 90.31 %\n",
      "\n"
     ]
    }
   ],
   "source": [
    "# MLP 학습을 실행하면서 Train, Test set의 Test set Accuracy를 확인\n",
    "for Epoch in range(1, EPOCHS + 1):\n",
    "    train(model, train_loader, optimizer, log_interval = 200)\n",
    "    test_loss, test_accuracy = evaluate(model, test_loader)\n",
    "\n",
    "    print(\"\\n [EPOCH: {}], \\t Test Loss: {:.4f}, \\t Test Accuracy: {:.2f} %\\n\".format(Epoch, test_loss, test_accuracy))"
   ]
  },
  {
   "cell_type": "code",
   "execution_count": null,
   "id": "9c2d512e",
   "metadata": {},
   "outputs": [],
   "source": []
  }
 ],
 "metadata": {
  "kernelspec": {
   "display_name": "Python 3 (ipykernel)",
   "language": "python",
   "name": "python3"
  },
  "language_info": {
   "codemirror_mode": {
    "name": "ipython",
    "version": 3
   },
   "file_extension": ".py",
   "mimetype": "text/x-python",
   "name": "python",
   "nbconvert_exporter": "python",
   "pygments_lexer": "ipython3",
   "version": "3.10.8"
  }
 },
 "nbformat": 4,
 "nbformat_minor": 5
}
